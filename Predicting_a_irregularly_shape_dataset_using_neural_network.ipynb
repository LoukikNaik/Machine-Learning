{
  "nbformat": 4,
  "nbformat_minor": 0,
  "metadata": {
    "colab": {
      "name": "Predicting a irregularly shape dataset using neural network.ipynb",
      "provenance": []
    },
    "kernelspec": {
      "name": "python3",
      "display_name": "Python 3"
    },
    "language_info": {
      "name": "python"
    }
  },
  "cells": [
    {
      "cell_type": "code",
      "execution_count": 1,
      "metadata": {
        "id": "hM7MwLcyYpw3"
      },
      "outputs": [],
      "source": [
        "import random\n",
        "import numpy as np\n",
        "import matplotlib.pyplot as plt"
      ]
    },
    {
      "cell_type": "code",
      "source": [
        "X=[[ 1.20444229e+00,  1.58709904e-01,  9.52471960e-02,\n",
        "         3.49178475e-01,  6.94150378e-01,  1.62065038e+00,\n",
        "         1.53856225e+00,  3.63085641e-02,  4.74591109e-01,\n",
        "         1.65695828e-01,  1.66446249e+00,  8.40285720e-01,\n",
        "         2.61695163e-01,  2.31614896e-01,  1.58013020e+00,\n",
        "         6.35509950e-03,  6.80610419e-01,  1.21400432e-01,\n",
        "         1.13281261e+00,  1.61505892e+00,  1.66454441e-01,\n",
        "         1.72438241e+00,  1.88667246e+00,  1.72327227e+00,\n",
        "         1.54661332e+00,  9.84590400e-01,  1.45313345e+00,\n",
        "         7.49043388e-01,  1.45048341e+00,  1.64287865e+00,\n",
        "         1.28141487e+00,  1.59574104e+00,  1.46298294e+00,\n",
        "         1.46629048e+00,  1.54348961e+00,  1.57013416e+00,\n",
        "         1.22995404e+00,  1.31142345e+00, -1.99364553e+00,\n",
        "         3.94564752e-01,  1.51715449e+00,  1.69169139e+00,\n",
        "         1.74186686e+00, -2.91373382e+00,  7.52150898e-01,\n",
        "         1.68537303e+00,  3.71160238e-01, -3.73033884e+00,\n",
        "         3.52484080e-01, -1.48694206e+00, -7.45290416e-01,\n",
        "         5.63807442e-01,  1.27093179e+00,  5.35133607e-01,\n",
        "        -1.71330375e-01, -2.50197293e+00, -2.63275448e+00,\n",
        "        -3.15561550e+00, -2.11022490e+00, -3.51303563e+00,\n",
        "        -3.52018155e-02, -3.99843114e+00, -3.08095445e+00,\n",
        "        -1.79023024e+00, -3.37520544e+00, -2.38578575e+00,\n",
        "        -3.54741267e+00, -2.92344384e+00, -1.01009705e+00,\n",
        "        -3.02185838e-01, -1.47947199e-01, -2.41113498e+00,\n",
        "        -3.52065970e+00, -3.09762480e+00, -3.86453574e+00,\n",
        "         3.46287902e-02, -3.81297733e+00, -2.54941164e+00,\n",
        "        -3.61833546e+00, -2.31720968e+00, -3.85843301e+00,\n",
        "        -3.77182528e+00, -3.22643424e+00, -2.49748107e+00,\n",
        "        -2.94157976e+00, -2.91391859e+00, -3.70623964e+00,\n",
        "        -1.95265709e+00, -2.66020434e+00,  8.17304141e-01,\n",
        "         1.21768512e+00, -1.66246175e+00, -2.75111411e+00,\n",
        "        -3.31873701e+00, -2.14063182e-01, -1.09902222e+00,\n",
        "        -1.94767785e+00, -4.99991014e-01, -2.52618507e+00,\n",
        "         1.96360773e+00, -1.02715843e+00,  3.03248341e+00,\n",
        "         1.51559027e+00,  2.21864283e+00, -2.40385821e+00,\n",
        "         2.00630521e+00,  3.17911628e+00, -1.45188351e+00,\n",
        "         1.21496393e+00,  2.04613301e+00, -1.62182614e+00,\n",
        "         3.17993200e+00,  3.96799188e+00,  3.29897728e-01,\n",
        "         4.07816588e+00, -3.17566012e-01,  3.31129113e+00,\n",
        "        -9.52809386e-01,  3.03768998e+00,  3.55052992e+00,\n",
        "         3.55990775e+00,  2.33663285e+00,  2.31352433e+00,\n",
        "         2.79495212e-01,  1.51862547e-01,  1.96155941e+00,\n",
        "         5.47353260e-01,  3.49044034e+00,  2.72566042e+00,\n",
        "         2.13606508e+00,  3.67042248e+00,  3.92260947e+00,\n",
        "         3.08862031e+00,  1.92948433e+00,  1.38946995e+00,\n",
        "         3.51428218e+00,  1.13035696e+00,  3.33545460e+00,\n",
        "         9.15905230e-03,  1.68097254e+00,  2.30710971e+00,\n",
        "         2.21404832e+00, -5.31842726e-01, -3.45874829e-01,\n",
        "        -9.83826601e-02,  6.55029428e-01,  5.83612433e-01,\n",
        "        -7.68172854e-01, -5.52725703e-02, -1.25961956e+00,\n",
        "         9.42805936e-01,  3.77681531e+00, -1.70922458e+00,\n",
        "        -1.08169517e+00, -1.40307039e+00, -6.43634519e-01,\n",
        "        -6.32543454e-01, -8.53713550e-01, -1.22772526e+00,\n",
        "         9.50740231e-01, -5.97375125e-01,  5.01933176e-01,\n",
        "        -1.88988467e+00, -1.23602220e+00, -1.74861600e+00,\n",
        "        -1.48828262e+00, -1.27810421e+00, -1.99338361e+00,\n",
        "        -6.80758371e-02,  1.07968241e+00, -1.49733014e+00,\n",
        "        -1.02248497e+00, -6.88068627e-02, -1.77284297e+00,\n",
        "        -1.42903599e+00, -1.63191608e+00, -1.57413453e-01,\n",
        "        -1.69732959e+00, -7.20691107e-01, -1.49836618e+00,\n",
        "        -1.53285135e+00, -7.83079289e-01, -5.65545945e-01,\n",
        "        -4.28247557e-03, -9.54816172e-01, -1.43027299e+00,\n",
        "        -1.99139039e-01, -3.93228458e-01, -3.13917579e-01,\n",
        "        -5.55629383e-01, -5.61729204e-02, -5.84257606e-02,\n",
        "        -8.07037000e-01, -1.86016879e-01, -9.65590226e-03,\n",
        "        -1.52664558e+00, -2.32543323e-02, -2.11665124e-02,\n",
        "        -2.37912887e-01, -5.85846410e-01, -1.07049581e+00,\n",
        "        -2.32905994e-03, -9.27980849e-02, -9.24081181e-01,\n",
        "        -4.27415411e-02, -7.88306156e-02, -1.35471230e+00,\n",
        "        -9.64506801e-02, -4.88903965e-01, -1.40428145e+00,\n",
        "        -1.03032194e-01, -1.76823043e+00, -1.81435331e+00,\n",
        "        -4.03453231e-01, -1.13007684e+00, -3.30143778e-01,\n",
        "        -1.03592948e-01, -1.62823990e+00, -1.27072988e+00,\n",
        "        -3.24165041e-01, -8.31515613e-01, -1.15541550e+00,\n",
        "        -8.81319474e-01, -5.14135967e-01, -3.41907953e-01,\n",
        "        -1.50008474e+00, -1.09546543e+00, -1.71840632e+00,\n",
        "        -1.68448953e+00, -1.23608462e+00, -8.06782295e-01,\n",
        "        -1.06026703e+00, -1.25449646e+00, -1.71040125e+00,\n",
        "        -4.54245598e-01, -1.78717499e+00, -1.26536725e+00,\n",
        "        -2.93821146e-01, -4.04645730e-01,  2.03128629e+00,\n",
        "        -1.02564465e+00, -1.07882287e+00, -1.48728331e+00,\n",
        "         1.52973464e+00, -1.39893030e+00, -3.67322611e-01,\n",
        "        -1.53385549e+00,  1.75371064e+00, -1.15897743e+00,\n",
        "         2.94968569e+00, -1.38165997e+00,  2.41200118e+00,\n",
        "         1.48331333e+00, -1.29300070e+00,  3.02838862e+00,\n",
        "        -1.14374794e+00, -1.06870636e+00,  2.70728746e+00,\n",
        "        -2.29022863e-01,  1.80385877e-01,  7.87999977e-01,\n",
        "        -1.65291432e-01,  3.73979818e+00,  3.48775653e+00,\n",
        "         2.08377776e+00,  2.36553487e+00,  3.47039369e+00,\n",
        "         2.42914859e+00,  3.90210781e+00,  2.03812322e+00,\n",
        "         4.04388429e+00,  3.15341019e+00,  3.09441731e+00,\n",
        "         1.00077505e+00,  3.22109077e+00,  3.03895157e+00,\n",
        "        -1.10566174e-01,  1.45338553e+00,  3.42704770e+00,\n",
        "         3.16377425e+00,  3.06435279e+00,  2.97153034e+00,\n",
        "         3.66817242e+00,  1.81576373e+00, -6.52056092e-01,\n",
        "         2.39565436e+00, -1.83495474e-02, -1.85426248e+00,\n",
        "        -7.55084589e-02,  3.68327360e+00,  3.01854545e+00,\n",
        "         6.67169560e-01,  3.21959504e+00,  6.71420203e-01,\n",
        "         3.62660798e+00,  3.41692475e+00, -4.99555802e-01,\n",
        "         2.82564692e+00,  3.67261725e+00,  7.88007167e-01,\n",
        "         3.86155325e+00, -2.85587710e-01,  2.28420287e+00,\n",
        "         2.81396650e-01,  3.13503544e-01, -1.43368358e+00,\n",
        "         9.57195160e-01, -1.85436896e+00,  3.81805817e-01,\n",
        "        -2.78967630e+00, -3.28548806e+00, -2.22349866e+00,\n",
        "        -2.78061591e+00,  8.26303188e-01, -3.72885115e+00,\n",
        "        -1.23292968e+00, -9.58935652e-01, -3.85811062e+00,\n",
        "        -3.59301074e+00, -3.19689248e+00, -2.12766839e+00,\n",
        "        -2.96424870e+00, -3.60274154e+00, -1.17472896e+00,\n",
        "        -2.58752094e+00, -3.16293962e+00, -1.72757867e+00,\n",
        "        -3.45341213e+00, -2.81273166e+00, -1.03553265e+00,\n",
        "        -3.15675590e-01, -3.70141041e+00, -4.21189811e+00,\n",
        "        -2.46094977e+00, -3.43569797e+00, -3.34469058e+00,\n",
        "        -1.38193635e+00, -3.17949403e+00, -2.42119633e+00,\n",
        "        -1.33643509e+00, -3.06299272e+00, -3.56504553e+00,\n",
        "        -3.34451075e+00,  7.77655270e-01, -2.98030710e+00,\n",
        "        -3.55225078e+00, -1.82974404e+00,  1.46532816e+00,\n",
        "         1.56688198e+00, -2.96543364e+00, -9.60755845e-01,\n",
        "        -3.37890943e+00,  1.47135345e+00, -3.02829566e+00,\n",
        "         7.50982262e-03,  1.79730919e+00,  3.91077683e-01,\n",
        "         1.63881069e+00, -8.84278418e-01,  1.56546135e+00,\n",
        "         1.59529239e+00,  1.27139537e+00,  1.40701977e+00,\n",
        "         1.58125802e+00, -1.72159327e+00,  5.68722722e-01,\n",
        "         1.60960641e+00,  1.70849761e+00,  3.77494361e-02,\n",
        "         1.77885147e+00,  1.57017560e+00,  1.31626221e+00,\n",
        "         1.45580659e+00,  9.95670227e-02,  1.49806312e+00,\n",
        "         1.19805866e+00,  1.30759534e+00,  1.69066279e+00,\n",
        "         1.54457758e+00,  3.36164302e-01,  4.71520896e-01,\n",
        "         1.79332637e+00,  1.75802645e+00,  1.11059510e+00,\n",
        "         2.25410298e-02,  1.03402966e+00,  1.46010385e-01,\n",
        "         1.50301824e+00,  5.29563078e-01,  7.23526086e-01,\n",
        "         1.24444151e+00,  7.11308695e-01,  3.65824427e-02,\n",
        "         5.96719268e-01,  1.77160218e-01,  4.50367941e-01,\n",
        "         3.75726453e-02,  2.13641164e-01,  3.24386893e-01,\n",
        "         7.30780825e-01],\n",
        "       [ 3.57611415e+00, -1.48217090e+00, -1.27995533e+00,\n",
        "        -2.06437997e+00,  2.88910878e+00, -4.03512400e+00,\n",
        "         3.24255518e+00, -8.53952855e-01,  2.47793820e+00,\n",
        "         1.81117216e+00,  3.45270042e+00, -3.44017638e+00,\n",
        "         2.10549647e+00,  1.81380501e+00,  3.30267114e+00,\n",
        "         4.18131769e-01,  3.09636434e+00,  1.33096004e+00,\n",
        "         3.78708833e+00,  3.67113005e+00,  1.77614048e+00,\n",
        "         2.76152023e+00,  3.25544108e+00,  3.46859174e+00,\n",
        "         2.48644177e+00,  3.77377130e+00,  3.60609974e+00,\n",
        "         3.11254032e+00,  3.57519059e+00,  2.61610253e+00,\n",
        "         3.71658382e+00,  3.70508842e+00,  3.83692688e+00,\n",
        "         4.03764347e+00,  3.66278004e+00,  2.58286653e+00,\n",
        "         3.46644213e+00,  1.81009586e+00, -1.49385117e+00,\n",
        "         4.15245354e-01,  2.27195929e+00,  3.36955063e+00,\n",
        "         3.12091874e+00, -1.81920100e+00,  8.92965442e-01,\n",
        "         2.58295944e+00,  3.90987436e-01, -1.63847358e+00,\n",
        "         3.58745594e-01, -1.20025645e+00, -6.62747682e-01,\n",
        "         6.31091667e-01,  1.91148705e+00,  5.61807626e-01,\n",
        "        -1.64789940e-01, -1.67941725e+00, -1.52497835e+00,\n",
        "        -1.68684842e+00, -1.45714301e+00, -1.77895038e+00,\n",
        "        -3.48915965e-02, -1.52257926e+00, -1.66776383e+00,\n",
        "        -1.34036665e+00, -1.71311210e+00, -1.51851549e+00,\n",
        "        -1.13514717e+00, -6.42637843e-01, -6.83366271e-02,\n",
        "        -2.92017074e-01, -1.41218116e-01, -1.50670574e+00,\n",
        "        -1.52995707e+00, -7.94385720e-01, -1.39958852e+00,\n",
        "         3.56093081e-02, -1.79730878e+00, -5.11392884e-01,\n",
        "        -1.12667182e+00, -4.21185479e-01, -1.45669050e+00,\n",
        "        -1.33847132e+00, -8.16479132e-01, -4.73790481e-01,\n",
        "        -6.39753507e-01, -6.34286374e-01, -1.38061641e+00,\n",
        "        -2.57794858e-01, -4.47701819e-01, -4.12904131e-02,\n",
        "        -9.76752768e-02, -1.78618154e-01, -5.67541671e-01,\n",
        "        -8.13740301e-01, -2.63923558e-03, -7.25097028e-02,\n",
        "        -2.63437687e-01, -2.06478223e-02, -4.03305715e-01,\n",
        "        -2.38704899e-01, -9.51626957e-02, -7.98991813e-01,\n",
        "        -1.66006988e-01, -3.64406026e-01, -3.86024370e-01,\n",
        "        -2.20189574e-01, -7.75370339e-01, -1.22170582e-01,\n",
        "        -8.42420756e-02, -2.98099361e-01, -1.96869702e-01,\n",
        "        -7.53075017e-01, -1.46831842e+00, -9.55610600e-03,\n",
        "        -1.20211122e+00, -9.60546773e-03, -8.10882920e-01,\n",
        "        -5.68346353e-02, -1.67347742e+00, -1.40460974e+00,\n",
        "        -1.12343152e+00, -4.04122779e-01, -1.57164755e+00,\n",
        "        -2.60933944e-01, -2.62404061e-04, -1.44902115e+00,\n",
        "        -4.90044260e-01, -1.85263115e+00, -5.41699195e-01,\n",
        "        -1.53914207e+00, -1.68871377e+00, -1.48674074e+00,\n",
        "        -7.97674459e-01, -1.39073589e+00, -1.14367531e+00,\n",
        "        -1.57393834e+00, -8.87426686e-01, -1.21102011e+00,\n",
        "        -8.58734620e-03, -1.19452167e+00, -1.53428360e+00,\n",
        "        -1.57898433e+00,  5.80732218e-01,  3.71643284e-01,\n",
        "         9.98470127e-02, -5.86327973e-01, -5.26306388e-01,\n",
        "         8.87962668e-01,  5.64689692e-02,  1.59318262e+00,\n",
        "        -8.25136845e-01, -1.20845750e+00,  2.78336582e+00,\n",
        "         3.43105607e+00,  1.88901133e+00,  7.17082698e-01,\n",
        "         7.16776955e-01,  1.00558709e+00,  1.57888938e+00,\n",
        "        -7.97008734e-01,  6.58892564e-01, -4.71381742e-01,\n",
        "         3.06914837e+00,  1.64172117e+00,  3.43138378e+00,\n",
        "         2.22472260e+00,  3.59356305e+00,  3.82338186e+00,\n",
        "         9.78172883e-01, -9.08628545e-01,  2.16232645e+00,\n",
        "         3.55191556e+00, -1.13111936e+00,  3.41399524e+00,\n",
        "         3.33509092e+00,  3.43837535e+00,  1.35204653e+00,\n",
        "         3.76053347e+00,  3.30301665e+00,  3.55267433e+00,\n",
        "         2.37056808e+00,  3.18484540e+00,  2.98100486e+00,\n",
        "         3.10265302e-01,  3.33480741e+00,  3.74789034e+00,\n",
        "         1.75698786e+00,  2.41233915e+00,  2.26160198e+00,\n",
        "         2.84308753e+00, -8.08464256e-01,  7.97601218e-01,\n",
        "        -3.16602301e+00, -1.73923341e+00, -3.03300460e-01,\n",
        "         3.51448929e+00, -4.48211450e-01, -6.80222539e-01,\n",
        "        -1.89461587e+00, -3.09125994e+00,  3.68252461e+00,\n",
        "        -2.48775165e-01, -1.11264583e+00, -3.31287149e+00,\n",
        "         9.83064901e-01, -1.06200552e+00,  3.64306307e+00,\n",
        "         1.23598454e+00, -2.48635569e+00, -3.96546091e+00,\n",
        "        -1.30407633e+00, -2.80700115e+00, -3.17916299e+00,\n",
        "        -2.34899616e+00,  3.86016046e+00,  2.31046192e+00,\n",
        "        -1.40325115e+00, -3.22048585e+00, -3.80050197e+00,\n",
        "         2.25857585e+00, -3.30857362e+00, -1.58359847e+00,\n",
        "        -3.47513222e+00, -2.68758875e+00, -3.55711876e-01,\n",
        "        -3.74431790e+00, -3.66810701e+00, -3.36824403e+00,\n",
        "        -3.76359366e+00, -3.41537451e+00, -9.76623415e-01,\n",
        "        -1.29100568e+00, -1.65608598e+00, -3.32409572e+00,\n",
        "        -4.96630821e-01, -3.14165698e+00, -1.71322197e+00,\n",
        "        -3.05909111e-01, -4.46777005e-01,  1.45931378e+00,\n",
        "        -1.22812034e+00, -3.69037212e+00, -3.47057694e+00,\n",
        "         1.15856433e+00, -2.03606086e+00, -3.85511111e-01,\n",
        "        -2.62194406e+00,  1.34798304e+00, -1.51195709e+00,\n",
        "         1.73829518e+00, -1.79547235e+00,  1.54317462e+00,\n",
        "         1.10954960e+00, -1.64931941e+00,  1.75797432e+00,\n",
        "        -1.47251063e+00, -1.28986402e+00,  1.67620531e+00,\n",
        "        -2.39669870e-01,  1.80650988e-01,  6.91778881e-01,\n",
        "        -1.82942022e-01,  1.63134904e+00,  1.82884977e+00,\n",
        "         1.43428651e+00,  1.60094812e+00,  1.75230668e+00,\n",
        "         4.64326857e-01,  1.43351617e+00,  1.43138441e+00,\n",
        "         1.42782215e+00,  1.73492674e+00,  1.70395009e+00,\n",
        "         7.47685370e-02,  1.82710034e+00,  1.70923867e+00,\n",
        "        -1.11868340e-01,  1.14112185e+00,  9.82679506e-01,\n",
        "         1.69883486e+00,  7.33791653e-01,  1.80316095e+00,\n",
        "         1.81840953e+00,  2.85892703e-01,  1.09388890e-02,\n",
        "         3.40608544e-01, -8.22267713e-05,  2.09582869e-01,\n",
        "        -3.52827719e-04,  1.47413722e+00,  6.19443662e-01,\n",
        "         2.64445438e-02,  7.63859684e-01,  2.95005667e-02,\n",
        "         1.68281773e+00,  9.40761147e-01,  9.24913182e-03,\n",
        "         1.61411623e+00,  1.04594113e+00,  3.45145694e-02,\n",
        "         1.49077794e+00,  7.29051825e-04,  3.52475534e-01,\n",
        "         1.00877527e-02,  4.27419191e-03,  1.31839708e-01,\n",
        "         4.14122283e-02,  1.91933665e-01,  7.39039595e-03,\n",
        "         6.46626879e-01,  1.67303451e+00,  4.21369487e-01,\n",
        "         5.56612529e-01,  4.42761985e-02,  1.29232912e+00,\n",
        "         7.28430003e-02,  6.19710137e-02,  1.42351448e+00,\n",
        "         1.08735728e+00,  1.72484190e+00,  1.38667445e+00,\n",
        "         5.90891086e-01,  1.29900039e+00,  9.65871130e-01,\n",
        "         1.56881569e+00,  1.76930017e+00,  1.29792183e+00,\n",
        "         9.84995600e-01,  1.69277814e+00,  8.93630841e-01,\n",
        "         3.06091086e-01,  1.14596763e+00,  1.91549748e+00,\n",
        "         1.57524026e+00,  1.66266665e+00,  1.59850516e+00,\n",
        "         1.10993370e+00,  1.67500495e+00,  5.25296992e-01,\n",
        "         1.03566638e+00,  1.74435925e+00,  1.81971221e+00,\n",
        "         1.11128726e+00, -8.89501086e-01,  6.66069451e-01,\n",
        "         1.26100476e+00,  1.36655852e+00, -2.08468516e+00,\n",
        "        -2.38718334e+00,  1.66924896e+00,  8.49203268e-01,\n",
        "         1.72895893e+00, -2.25643833e+00,  1.69824962e+00,\n",
        "        -7.63165462e-03, -3.09272026e+00, -4.09952810e-01,\n",
        "        -3.79499252e+00,  7.61286324e-01, -2.30558737e+00,\n",
        "        -3.03467556e+00, -1.61502125e+00, -3.90266394e+00,\n",
        "        -2.90841129e+00,  1.31250839e+00,  2.59847860e+00,\n",
        "        -3.50186707e+00, -2.96039129e+00, -3.60098795e-02,\n",
        "        -3.27807629e+00, -2.34587605e+00, -3.56919962e+00,\n",
        "        -3.51991588e+00, -1.23848616e+00, -3.47814659e+00,\n",
        "        -3.65480564e+00, -3.82629239e+00, -3.80826364e+00,\n",
        "        -3.56242008e+00, -2.44646389e+00, -2.51865217e+00,\n",
        "        -3.70032292e+00, -2.98399234e+00, -3.49686963e+00,\n",
        "        -4.88897726e-01, -3.76272064e+00,  1.42253750e+00,\n",
        "        -3.69488964e+00, -2.79391432e+00, -8.53390853e-01,\n",
        "        -3.97467897e+00, -3.03195393e+00, -7.20267166e-01,\n",
        "         2.87171160e+00, -1.53928239e+00,  2.40812143e+00,\n",
        "         8.91600979e-01,  1.73201591e+00, -2.11632466e+00,\n",
        "         3.06832921e+00]]\n",
        "X=np.array(X)\n",
        "X.shape"
      ],
      "metadata": {
        "colab": {
          "base_uri": "https://localhost:8080/"
        },
        "id": "FtBG5hSl_xBr",
        "outputId": "79c71724-eaed-4db8-ff59-bce6cc2bf09d"
      },
      "execution_count": 2,
      "outputs": [
        {
          "output_type": "execute_result",
          "data": {
            "text/plain": [
              "(2, 400)"
            ]
          },
          "metadata": {},
          "execution_count": 2
        }
      ]
    },
    {
      "cell_type": "code",
      "source": [
        "y=[[0, 0, 0, 0, 0, 0, 0, 0, 0, 0, 0, 0, 0, 0, 0, 0, 0, 0, 0, 0, 0, 0,\n",
        "        0, 0, 0, 0, 0, 0, 0, 0, 0, 0, 0, 0, 0, 0, 0, 0, 0, 0, 0, 0, 0, 0,\n",
        "        0, 0, 0, 0, 0, 0, 0, 0, 0, 0, 0, 0, 0, 0, 0, 0, 0, 0, 0, 0, 0, 0,\n",
        "        0, 0, 0, 0, 0, 0, 0, 0, 0, 0, 0, 0, 0, 0, 0, 0, 0, 0, 0, 0, 0, 0,\n",
        "        0, 0, 0, 0, 0, 0, 0, 0, 0, 0, 0, 0, 0, 0, 0, 0, 0, 0, 0, 0, 0, 0,\n",
        "        0, 0, 0, 0, 0, 0, 0, 0, 0, 0, 0, 0, 0, 0, 0, 0, 0, 0, 0, 0, 0, 0,\n",
        "        0, 0, 0, 0, 0, 0, 0, 0, 0, 0, 0, 0, 0, 0, 0, 0, 0, 0, 0, 0, 0, 0,\n",
        "        0, 0, 0, 0, 0, 0, 0, 0, 0, 0, 0, 0, 0, 0, 0, 0, 0, 0, 0, 0, 0, 0,\n",
        "        0, 0, 0, 0, 0, 0, 0, 0, 0, 0, 0, 0, 0, 0, 0, 0, 0, 0, 0, 0, 0, 0,\n",
        "        0, 0, 1, 1, 1, 1, 1, 1, 1, 1, 1, 1, 1, 1, 1, 1, 1, 1, 1, 1, 1, 1,\n",
        "        1, 1, 1, 1, 1, 1, 1, 1, 1, 1, 1, 1, 1, 1, 1, 1, 1, 1, 1, 1, 1, 1,\n",
        "        1, 1, 1, 1, 1, 1, 1, 1, 1, 1, 1, 1, 1, 1, 1, 1, 1, 1, 1, 1, 1, 1,\n",
        "        1, 1, 1, 1, 1, 1, 1, 1, 1, 1, 1, 1, 1, 1, 1, 1, 1, 1, 1, 1, 1, 1,\n",
        "        1, 1, 1, 1, 1, 1, 1, 1, 1, 1, 1, 1, 1, 1, 1, 1, 1, 1, 1, 1, 1, 1,\n",
        "        1, 1, 1, 1, 1, 1, 1, 1, 1, 1, 1, 1, 1, 1, 1, 1, 1, 1, 1, 1, 1, 1,\n",
        "        1, 1, 1, 1, 1, 1, 1, 1, 1, 1, 1, 1, 1, 1, 1, 1, 1, 1, 1, 1, 1, 1,\n",
        "        1, 1, 1, 1, 1, 1, 1, 1, 1, 1, 1, 1, 1, 1, 1, 1, 1, 1, 1, 1, 1, 1,\n",
        "        1, 1, 1, 1, 1, 1, 1, 1, 1, 1, 1, 1, 1, 1, 1, 1, 1, 1, 1, 1, 1, 1,\n",
        "        1, 1, 1, 1]]\n",
        "y=np.array(y)\n",
        "y.shape"
      ],
      "metadata": {
        "colab": {
          "base_uri": "https://localhost:8080/"
        },
        "id": "dAwX06sR_w_F",
        "outputId": "677f2ce7-44f5-4e92-e04b-3b0c3c48add8"
      },
      "execution_count": 3,
      "outputs": [
        {
          "output_type": "execute_result",
          "data": {
            "text/plain": [
              "(1, 400)"
            ]
          },
          "metadata": {},
          "execution_count": 3
        }
      ]
    },
    {
      "cell_type": "code",
      "source": [
        "plt.scatter(X[0,:], X[1,:], c=y, s=40, cmap=plt.cm.Spectral)"
      ],
      "metadata": {
        "colab": {
          "base_uri": "https://localhost:8080/",
          "height": 265
        },
        "id": "d9U5_j0q_wzl",
        "outputId": "f312d12f-6e7c-4d4d-e9d8-d7464a5babff"
      },
      "execution_count": 4,
      "outputs": [
        {
          "output_type": "display_data",
          "data": {
            "image/png": "[encoded data removed]",
            "text/plain": [
              "<Figure size 432x288 with 1 Axes>"
            ]
          },
          "metadata": {
            "needs_background": "light"
          }
        }
      ]
    },
    {
      "cell_type": "code",
      "source": [
        "from keras.models import Sequential"
      ],
      "metadata": {
        "id": "gg6YIRUJYzsK"
      },
      "execution_count": 13,
      "outputs": []
    },
    {
      "cell_type": "code",
      "source": [
        "from keras.layers import Dense"
      ],
      "metadata": {
        "id": "MsiUSmOuY36R"
      },
      "execution_count": 14,
      "outputs": []
    },
    {
      "cell_type": "code",
      "source": [
        "model=Sequential()"
      ],
      "metadata": {
        "id": "Hq_BGpQvZCY6"
      },
      "execution_count": 15,
      "outputs": []
    },
    {
      "cell_type": "code",
      "source": [
        "model.add(Dense(4,activation='tanh',input_dim=X.shape[0]))"
      ],
      "metadata": {
        "id": "LCUai5YwZHdE"
      },
      "execution_count": 16,
      "outputs": []
    },
    {
      "cell_type": "code",
      "source": [
        "model.add(Dense(1,activation='sigmoid'))"
      ],
      "metadata": {
        "id": "ERIG0j5ZEEkq"
      },
      "execution_count": 17,
      "outputs": []
    },
    {
      "cell_type": "code",
      "source": [
        "model.summary()"
      ],
      "metadata": {
        "colab": {
          "base_uri": "https://localhost:8080/"
        },
        "id": "6Qp2oFi_EQar",
        "outputId": "5605c260-d026-43d7-b45e-104c36fe4814"
      },
      "execution_count": 18,
      "outputs": [
        {
          "output_type": "stream",
          "name": "stdout",
          "text": [
            "Model: \"sequential_1\"\n",
            "_________________________________________________________________\n",
            " Layer (type)                Output Shape              Param #   \n",
            "=================================================================\n",
            " dense_2 (Dense)             (None, 4)                 12        \n",
            "                                                                 \n",
            " dense_3 (Dense)             (None, 1)                 5         \n",
            "                                                                 \n",
            "=================================================================\n",
            "Total params: 17\n",
            "Trainable params: 17\n",
            "Non-trainable params: 0\n",
            "_________________________________________________________________\n"
          ]
        }
      ]
    },
    {
      "cell_type": "code",
      "source": [
        "model.compile(loss='mse',optimizer='adam',metrics=['accuracy'])"
      ],
      "metadata": {
        "id": "ISJMehubH9NW"
      },
      "execution_count": 19,
      "outputs": []
    },
    {
      "cell_type": "code",
      "source": [
        "model.fit(X.T,y.T,epochs=1000,batch_size=200,verbose=0)"
      ],
      "metadata": {
        "colab": {
          "base_uri": "https://localhost:8080/"
        },
        "id": "14vmulSmEjYN",
        "outputId": "227e1bde-311b-49ed-c656-b33e54b85c4a"
      },
      "execution_count": 20,
      "outputs": [
        {
          "output_type": "execute_result",
          "data": {
            "text/plain": [
              "<keras.callbacks.History at 0x7f572178e2d0>"
            ]
          },
          "metadata": {},
          "execution_count": 20
        }
      ]
    },
    {
      "cell_type": "code",
      "source": [
        "y_pred=model.predict(X.T)\n",
        "y_pred=y_pred.round()"
      ],
      "metadata": {
        "id": "1fZt-_PiEmy-"
      },
      "execution_count": 42,
      "outputs": []
    },
    {
      "cell_type": "code",
      "source": [
        "y.T[:20]"
      ],
      "metadata": {
        "colab": {
          "base_uri": "https://localhost:8080/"
        },
        "id": "JCErykxo3UIj",
        "outputId": "52b7f6ea-ea3c-4b6a-ce5e-f1a50dd1603c"
      },
      "execution_count": 37,
      "outputs": [
        {
          "output_type": "execute_result",
          "data": {
            "text/plain": [
              "array([[0],\n",
              "       [0],\n",
              "       [0],\n",
              "       [0],\n",
              "       [0],\n",
              "       [0],\n",
              "       [0],\n",
              "       [0],\n",
              "       [0],\n",
              "       [0],\n",
              "       [0],\n",
              "       [0],\n",
              "       [0],\n",
              "       [0],\n",
              "       [0],\n",
              "       [0],\n",
              "       [0],\n",
              "       [0],\n",
              "       [0],\n",
              "       [0]])"
            ]
          },
          "metadata": {},
          "execution_count": 37
        }
      ]
    },
    {
      "cell_type": "code",
      "source": [
        "plt.scatter(X[0,:], X[1,:], c=y_pred.T, s=40, cmap=plt.cm.Spectral);"
      ],
      "metadata": {
        "colab": {
          "base_uri": "https://localhost:8080/",
          "height": 265
        },
        "id": "ru0XmuPb2D6w",
        "outputId": "cf4ec435-530e-44fb-f6f4-fd9a22477149"
      },
      "execution_count": 26,
      "outputs": [
        {
          "output_type": "display_data",
          "data": {
            "image/png": "[encoded data removed]",
            "text/plain": [
              "<Figure size 432x288 with 1 Axes>"
            ]
          },
          "metadata": {
            "needs_background": "light"
          }
        }
      ]
    },
    {
      "cell_type": "code",
      "source": [
        "from sklearn.metrics import accuracy_score"
      ],
      "metadata": {
        "id": "FlW7KLXJ2LhN"
      },
      "execution_count": 39,
      "outputs": []
    },
    {
      "cell_type": "code",
      "source": [
        "accuracy_score(y.T,y_pred)*100"
      ],
      "metadata": {
        "colab": {
          "base_uri": "https://localhost:8080/"
        },
        "id": "cDSQXUhX2oAO",
        "outputId": "60b23c8b-dfcc-4417-e4f9-37972c627334"
      },
      "execution_count": 45,
      "outputs": [
        {
          "output_type": "execute_result",
          "data": {
            "text/plain": [
              "85.0"
            ]
          },
          "metadata": {},
          "execution_count": 45
        }
      ]
    },
    {
      "cell_type": "code",
      "source": [
        ""
      ],
      "metadata": {
        "id": "bRBFPk4e35qx"
      },
      "execution_count": null,
      "outputs": []
    }
  ]
}