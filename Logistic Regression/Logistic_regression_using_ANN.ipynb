{
  "nbformat": 4,
  "nbformat_minor": 0,
  "metadata": {
    "colab": {
      "name": "Logistic regression using ANN.ipynb",
      "provenance": []
    },
    "kernelspec": {
      "name": "python3",
      "display_name": "Python 3"
    },
    "language_info": {
      "name": "python"
    }
  },
  "cells": [
    {
      "cell_type": "code",
      "execution_count": 238,
      "metadata": {
        "id": "2TaDsWVilVo5"
      },
      "outputs": [],
      "source": [
        "import numpy as np\n",
        "import pandas as pd\n",
        "import matplotlib.pyplot as plt\n",
        "from keras.models import Sequential\n",
        "from keras.layers import Dense"
      ]
    },
    {
      "cell_type": "code",
      "source": [
        "data=pd.read_csv('mushrooms.csv')"
      ],
      "metadata": {
        "id": "3ESOFJQzlwRD"
      },
      "execution_count": 239,
      "outputs": []
    },
    {
      "cell_type": "code",
      "source": [
        "data.head()"
      ],
      "metadata": {
        "colab": {
          "base_uri": "https://localhost:8080/",
          "height": 322
        },
        "id": "zd1lvufEmyvN",
        "outputId": "1ad5fa07-64d2-44a7-a564-80e4cf3d3f53"
      },
      "execution_count": 240,
      "outputs": [
        {
          "output_type": "execute_result",
          "data": {
            "text/html": [
              "\n",
              "  <div id=\"df-4ece6e53-1fb5-4845-809f-1bced9e152e0\">\n",
              "    <div class=\"colab-df-container\">\n",
              "      <div>\n",
              "<style scoped>\n",
              "    .dataframe tbody tr th:only-of-type {\n",
              "        vertical-align: middle;\n",
              "    }\n",
              "\n",
              "    .dataframe tbody tr th {\n",
              "        vertical-align: top;\n",
              "    }\n",
              "\n",
              "    .dataframe thead th {\n",
              "        text-align: right;\n",
              "    }\n",
              "</style>\n",
              "<table border=\"1\" class=\"dataframe\">\n",
              "  <thead>\n",
              "    <tr style=\"text-align: right;\">\n",
              "      <th></th>\n",
              "      <th>class</th>\n",
              "      <th>cap-shape</th>\n",
              "      <th>cap-surface</th>\n",
              "      <th>cap-color</th>\n",
              "      <th>bruises</th>\n",
              "      <th>odor</th>\n",
              "      <th>gill-attachment</th>\n",
              "      <th>gill-spacing</th>\n",
              "      <th>gill-size</th>\n",
              "      <th>gill-color</th>\n",
              "      <th>stalk-shape</th>\n",
              "      <th>stalk-root</th>\n",
              "      <th>stalk-surface-above-ring</th>\n",
              "      <th>stalk-surface-below-ring</th>\n",
              "      <th>stalk-color-above-ring</th>\n",
              "      <th>stalk-color-below-ring</th>\n",
              "      <th>veil-type</th>\n",
              "      <th>veil-color</th>\n",
              "      <th>ring-number</th>\n",
              "      <th>ring-type</th>\n",
              "      <th>spore-print-color</th>\n",
              "      <th>population</th>\n",
              "      <th>habitat</th>\n",
              "    </tr>\n",
              "  </thead>\n",
              "  <tbody>\n",
              "    <tr>\n",
              "      <th>0</th>\n",
              "      <td>p</td>\n",
              "      <td>x</td>\n",
              "      <td>s</td>\n",
              "      <td>n</td>\n",
              "      <td>t</td>\n",
              "      <td>p</td>\n",
              "      <td>f</td>\n",
              "      <td>c</td>\n",
              "      <td>n</td>\n",
              "      <td>k</td>\n",
              "      <td>e</td>\n",
              "      <td>e</td>\n",
              "      <td>s</td>\n",
              "      <td>s</td>\n",
              "      <td>w</td>\n",
              "      <td>w</td>\n",
              "      <td>p</td>\n",
              "      <td>w</td>\n",
              "      <td>o</td>\n",
              "      <td>p</td>\n",
              "      <td>k</td>\n",
              "      <td>s</td>\n",
              "      <td>u</td>\n",
              "    </tr>\n",
              "    <tr>\n",
              "      <th>1</th>\n",
              "      <td>e</td>\n",
              "      <td>x</td>\n",
              "      <td>s</td>\n",
              "      <td>y</td>\n",
              "      <td>t</td>\n",
              "      <td>a</td>\n",
              "      <td>f</td>\n",
              "      <td>c</td>\n",
              "      <td>b</td>\n",
              "      <td>k</td>\n",
              "      <td>e</td>\n",
              "      <td>c</td>\n",
              "      <td>s</td>\n",
              "      <td>s</td>\n",
              "      <td>w</td>\n",
              "      <td>w</td>\n",
              "      <td>p</td>\n",
              "      <td>w</td>\n",
              "      <td>o</td>\n",
              "      <td>p</td>\n",
              "      <td>n</td>\n",
              "      <td>n</td>\n",
              "      <td>g</td>\n",
              "    </tr>\n",
              "    <tr>\n",
              "      <th>2</th>\n",
              "      <td>e</td>\n",
              "      <td>b</td>\n",
              "      <td>s</td>\n",
              "      <td>w</td>\n",
              "      <td>t</td>\n",
              "      <td>l</td>\n",
              "      <td>f</td>\n",
              "      <td>c</td>\n",
              "      <td>b</td>\n",
              "      <td>n</td>\n",
              "      <td>e</td>\n",
              "      <td>c</td>\n",
              "      <td>s</td>\n",
              "      <td>s</td>\n",
              "      <td>w</td>\n",
              "      <td>w</td>\n",
              "      <td>p</td>\n",
              "      <td>w</td>\n",
              "      <td>o</td>\n",
              "      <td>p</td>\n",
              "      <td>n</td>\n",
              "      <td>n</td>\n",
              "      <td>m</td>\n",
              "    </tr>\n",
              "    <tr>\n",
              "      <th>3</th>\n",
              "      <td>p</td>\n",
              "      <td>x</td>\n",
              "      <td>y</td>\n",
              "      <td>w</td>\n",
              "      <td>t</td>\n",
              "      <td>p</td>\n",
              "      <td>f</td>\n",
              "      <td>c</td>\n",
              "      <td>n</td>\n",
              "      <td>n</td>\n",
              "      <td>e</td>\n",
              "      <td>e</td>\n",
              "      <td>s</td>\n",
              "      <td>s</td>\n",
              "      <td>w</td>\n",
              "      <td>w</td>\n",
              "      <td>p</td>\n",
              "      <td>w</td>\n",
              "      <td>o</td>\n",
              "      <td>p</td>\n",
              "      <td>k</td>\n",
              "      <td>s</td>\n",
              "      <td>u</td>\n",
              "    </tr>\n",
              "    <tr>\n",
              "      <th>4</th>\n",
              "      <td>e</td>\n",
              "      <td>x</td>\n",
              "      <td>s</td>\n",
              "      <td>g</td>\n",
              "      <td>f</td>\n",
              "      <td>n</td>\n",
              "      <td>f</td>\n",
              "      <td>w</td>\n",
              "      <td>b</td>\n",
              "      <td>k</td>\n",
              "      <td>t</td>\n",
              "      <td>e</td>\n",
              "      <td>s</td>\n",
              "      <td>s</td>\n",
              "      <td>w</td>\n",
              "      <td>w</td>\n",
              "      <td>p</td>\n",
              "      <td>w</td>\n",
              "      <td>o</td>\n",
              "      <td>e</td>\n",
              "      <td>n</td>\n",
              "      <td>a</td>\n",
              "      <td>g</td>\n",
              "    </tr>\n",
              "  </tbody>\n",
              "</table>\n",
              "</div>\n",
              "      <button class=\"colab-df-convert\" onclick=\"convertToInteractive('df-4ece6e53-1fb5-4845-809f-1bced9e152e0')\"\n",
              "              title=\"Convert this dataframe to an interactive table.\"\n",
              "              style=\"display:none;\">\n",
              "        \n",
              "  <svg xmlns=\"http://www.w3.org/2000/svg\" height=\"24px\"viewBox=\"0 0 24 24\"\n",
              "       width=\"24px\">\n",
              "    <path d=\"M0 0h24v24H0V0z\" fill=\"none\"/>\n",
              "    <path d=\"M18.56 5.44l.94 2.06.94-2.06 2.06-.94-2.06-.94-.94-2.06-.94 2.06-2.06.94zm-11 1L8.5 8.5l.94-2.06 2.06-.94-2.06-.94L8.5 2.5l-.94 2.06-2.06.94zm10 10l.94 2.06.94-2.06 2.06-.94-2.06-.94-.94-2.06-.94 2.06-2.06.94z\"/><path d=\"M17.41 7.96l-1.37-1.37c-.4-.4-.92-.59-1.43-.59-.52 0-1.04.2-1.43.59L10.3 9.45l-7.72 7.72c-.78.78-.78 2.05 0 2.83L4 21.41c.39.39.9.59 1.41.59.51 0 1.02-.2 1.41-.59l7.78-7.78 2.81-2.81c.8-.78.8-2.07 0-2.86zM5.41 20L4 18.59l7.72-7.72 1.47 1.35L5.41 20z\"/>\n",
              "  </svg>\n",
              "      </button>\n",
              "      \n",
              "  <style>\n",
              "    .colab-df-container {\n",
              "      display:flex;\n",
              "      flex-wrap:wrap;\n",
              "      gap: 12px;\n",
              "    }\n",
              "\n",
              "    .colab-df-convert {\n",
              "      background-color: #E8F0FE;\n",
              "      border: none;\n",
              "      border-radius: 50%;\n",
              "      cursor: pointer;\n",
              "      display: none;\n",
              "      fill: #1967D2;\n",
              "      height: 32px;\n",
              "      padding: 0 0 0 0;\n",
              "      width: 32px;\n",
              "    }\n",
              "\n",
              "    .colab-df-convert:hover {\n",
              "      background-color: #E2EBFA;\n",
              "      box-shadow: 0px 1px 2px rgba(60, 64, 67, 0.3), 0px 1px 3px 1px rgba(60, 64, 67, 0.15);\n",
              "      fill: #174EA6;\n",
              "    }\n",
              "\n",
              "    [theme=dark] .colab-df-convert {\n",
              "      background-color: #3B4455;\n",
              "      fill: #D2E3FC;\n",
              "    }\n",
              "\n",
              "    [theme=dark] .colab-df-convert:hover {\n",
              "      background-color: #434B5C;\n",
              "      box-shadow: 0px 1px 3px 1px rgba(0, 0, 0, 0.15);\n",
              "      filter: drop-shadow(0px 1px 2px rgba(0, 0, 0, 0.3));\n",
              "      fill: #FFFFFF;\n",
              "    }\n",
              "  </style>\n",
              "\n",
              "      <script>\n",
              "        const buttonEl =\n",
              "          document.querySelector('#df-4ece6e53-1fb5-4845-809f-1bced9e152e0 button.colab-df-convert');\n",
              "        buttonEl.style.display =\n",
              "          google.colab.kernel.accessAllowed ? 'block' : 'none';\n",
              "\n",
              "        async function convertToInteractive(key) {\n",
              "          const element = document.querySelector('#df-4ece6e53-1fb5-4845-809f-1bced9e152e0');\n",
              "          const dataTable =\n",
              "            await google.colab.kernel.invokeFunction('convertToInteractive',\n",
              "                                                     [key], {});\n",
              "          if (!dataTable) return;\n",
              "\n",
              "          const docLinkHtml = 'Like what you see? Visit the ' +\n",
              "            '<a target=\"_blank\" href=https://colab.research.google.com/notebooks/data_table.ipynb>data table notebook</a>'\n",
              "            + ' to learn more about interactive tables.';\n",
              "          element.innerHTML = '';\n",
              "          dataTable['output_type'] = 'display_data';\n",
              "          await google.colab.output.renderOutput(dataTable, element);\n",
              "          const docLink = document.createElement('div');\n",
              "          docLink.innerHTML = docLinkHtml;\n",
              "          element.appendChild(docLink);\n",
              "        }\n",
              "      </script>\n",
              "    </div>\n",
              "  </div>\n",
              "  "
            ],
            "text/plain": [
              "  class cap-shape cap-surface  ... spore-print-color population habitat\n",
              "0     p         x           s  ...                 k          s       u\n",
              "1     e         x           s  ...                 n          n       g\n",
              "2     e         b           s  ...                 n          n       m\n",
              "3     p         x           y  ...                 k          s       u\n",
              "4     e         x           s  ...                 n          a       g\n",
              "\n",
              "[5 rows x 23 columns]"
            ]
          },
          "metadata": {},
          "execution_count": 240
        }
      ]
    },
    {
      "cell_type": "code",
      "source": [
        "data.info()"
      ],
      "metadata": {
        "colab": {
          "base_uri": "https://localhost:8080/"
        },
        "id": "mdzJz3NMoIbg",
        "outputId": "bdc4425a-451a-45ba-964c-4dc4c6b2f08f"
      },
      "execution_count": 241,
      "outputs": [
        {
          "output_type": "stream",
          "name": "stdout",
          "text": [
            "<class 'pandas.core.frame.DataFrame'>\n",
            "RangeIndex: 8124 entries, 0 to 8123\n",
            "Data columns (total 23 columns):\n",
            " #   Column                    Non-Null Count  Dtype \n",
            "---  ------                    --------------  ----- \n",
            " 0   class                     8124 non-null   object\n",
            " 1   cap-shape                 8124 non-null   object\n",
            " 2   cap-surface               8124 non-null   object\n",
            " 3   cap-color                 8124 non-null   object\n",
            " 4   bruises                   8124 non-null   object\n",
            " 5   odor                      8124 non-null   object\n",
            " 6   gill-attachment           8124 non-null   object\n",
            " 7   gill-spacing              8124 non-null   object\n",
            " 8   gill-size                 8124 non-null   object\n",
            " 9   gill-color                8124 non-null   object\n",
            " 10  stalk-shape               8124 non-null   object\n",
            " 11  stalk-root                8124 non-null   object\n",
            " 12  stalk-surface-above-ring  8124 non-null   object\n",
            " 13  stalk-surface-below-ring  8124 non-null   object\n",
            " 14  stalk-color-above-ring    8124 non-null   object\n",
            " 15  stalk-color-below-ring    8124 non-null   object\n",
            " 16  veil-type                 8124 non-null   object\n",
            " 17  veil-color                8124 non-null   object\n",
            " 18  ring-number               8124 non-null   object\n",
            " 19  ring-type                 8124 non-null   object\n",
            " 20  spore-print-color         8124 non-null   object\n",
            " 21  population                8124 non-null   object\n",
            " 22  habitat                   8124 non-null   object\n",
            "dtypes: object(23)\n",
            "memory usage: 1.4+ MB\n"
          ]
        }
      ]
    },
    {
      "cell_type": "code",
      "source": [
        "data.describe()"
      ],
      "metadata": {
        "colab": {
          "base_uri": "https://localhost:8080/",
          "height": 291
        },
        "id": "HvvUXJEcoLDy",
        "outputId": "c6341433-608c-4b46-a7bc-584d06d71157"
      },
      "execution_count": 242,
      "outputs": [
        {
          "output_type": "execute_result",
          "data": {
            "text/html": [
              "\n",
              "  <div id=\"df-89b15141-eeaa-4397-b8e3-5e18fbb6774d\">\n",
              "    <div class=\"colab-df-container\">\n",
              "      <div>\n",
              "<style scoped>\n",
              "    .dataframe tbody tr th:only-of-type {\n",
              "        vertical-align: middle;\n",
              "    }\n",
              "\n",
              "    .dataframe tbody tr th {\n",
              "        vertical-align: top;\n",
              "    }\n",
              "\n",
              "    .dataframe thead th {\n",
              "        text-align: right;\n",
              "    }\n",
              "</style>\n",
              "<table border=\"1\" class=\"dataframe\">\n",
              "  <thead>\n",
              "    <tr style=\"text-align: right;\">\n",
              "      <th></th>\n",
              "      <th>class</th>\n",
              "      <th>cap-shape</th>\n",
              "      <th>cap-surface</th>\n",
              "      <th>cap-color</th>\n",
              "      <th>bruises</th>\n",
              "      <th>odor</th>\n",
              "      <th>gill-attachment</th>\n",
              "      <th>gill-spacing</th>\n",
              "      <th>gill-size</th>\n",
              "      <th>gill-color</th>\n",
              "      <th>stalk-shape</th>\n",
              "      <th>stalk-root</th>\n",
              "      <th>stalk-surface-above-ring</th>\n",
              "      <th>stalk-surface-below-ring</th>\n",
              "      <th>stalk-color-above-ring</th>\n",
              "      <th>stalk-color-below-ring</th>\n",
              "      <th>veil-type</th>\n",
              "      <th>veil-color</th>\n",
              "      <th>ring-number</th>\n",
              "      <th>ring-type</th>\n",
              "      <th>spore-print-color</th>\n",
              "      <th>population</th>\n",
              "      <th>habitat</th>\n",
              "    </tr>\n",
              "  </thead>\n",
              "  <tbody>\n",
              "    <tr>\n",
              "      <th>count</th>\n",
              "      <td>8124</td>\n",
              "      <td>8124</td>\n",
              "      <td>8124</td>\n",
              "      <td>8124</td>\n",
              "      <td>8124</td>\n",
              "      <td>8124</td>\n",
              "      <td>8124</td>\n",
              "      <td>8124</td>\n",
              "      <td>8124</td>\n",
              "      <td>8124</td>\n",
              "      <td>8124</td>\n",
              "      <td>8124</td>\n",
              "      <td>8124</td>\n",
              "      <td>8124</td>\n",
              "      <td>8124</td>\n",
              "      <td>8124</td>\n",
              "      <td>8124</td>\n",
              "      <td>8124</td>\n",
              "      <td>8124</td>\n",
              "      <td>8124</td>\n",
              "      <td>8124</td>\n",
              "      <td>8124</td>\n",
              "      <td>8124</td>\n",
              "    </tr>\n",
              "    <tr>\n",
              "      <th>unique</th>\n",
              "      <td>2</td>\n",
              "      <td>6</td>\n",
              "      <td>4</td>\n",
              "      <td>10</td>\n",
              "      <td>2</td>\n",
              "      <td>9</td>\n",
              "      <td>2</td>\n",
              "      <td>2</td>\n",
              "      <td>2</td>\n",
              "      <td>12</td>\n",
              "      <td>2</td>\n",
              "      <td>5</td>\n",
              "      <td>4</td>\n",
              "      <td>4</td>\n",
              "      <td>9</td>\n",
              "      <td>9</td>\n",
              "      <td>1</td>\n",
              "      <td>4</td>\n",
              "      <td>3</td>\n",
              "      <td>5</td>\n",
              "      <td>9</td>\n",
              "      <td>6</td>\n",
              "      <td>7</td>\n",
              "    </tr>\n",
              "    <tr>\n",
              "      <th>top</th>\n",
              "      <td>e</td>\n",
              "      <td>x</td>\n",
              "      <td>y</td>\n",
              "      <td>n</td>\n",
              "      <td>f</td>\n",
              "      <td>n</td>\n",
              "      <td>f</td>\n",
              "      <td>c</td>\n",
              "      <td>b</td>\n",
              "      <td>b</td>\n",
              "      <td>t</td>\n",
              "      <td>b</td>\n",
              "      <td>s</td>\n",
              "      <td>s</td>\n",
              "      <td>w</td>\n",
              "      <td>w</td>\n",
              "      <td>p</td>\n",
              "      <td>w</td>\n",
              "      <td>o</td>\n",
              "      <td>p</td>\n",
              "      <td>w</td>\n",
              "      <td>v</td>\n",
              "      <td>d</td>\n",
              "    </tr>\n",
              "    <tr>\n",
              "      <th>freq</th>\n",
              "      <td>4208</td>\n",
              "      <td>3656</td>\n",
              "      <td>3244</td>\n",
              "      <td>2284</td>\n",
              "      <td>4748</td>\n",
              "      <td>3528</td>\n",
              "      <td>7914</td>\n",
              "      <td>6812</td>\n",
              "      <td>5612</td>\n",
              "      <td>1728</td>\n",
              "      <td>4608</td>\n",
              "      <td>3776</td>\n",
              "      <td>5176</td>\n",
              "      <td>4936</td>\n",
              "      <td>4464</td>\n",
              "      <td>4384</td>\n",
              "      <td>8124</td>\n",
              "      <td>7924</td>\n",
              "      <td>7488</td>\n",
              "      <td>3968</td>\n",
              "      <td>2388</td>\n",
              "      <td>4040</td>\n",
              "      <td>3148</td>\n",
              "    </tr>\n",
              "  </tbody>\n",
              "</table>\n",
              "</div>\n",
              "      <button class=\"colab-df-convert\" onclick=\"convertToInteractive('df-89b15141-eeaa-4397-b8e3-5e18fbb6774d')\"\n",
              "              title=\"Convert this dataframe to an interactive table.\"\n",
              "              style=\"display:none;\">\n",
              "        \n",
              "  <svg xmlns=\"http://www.w3.org/2000/svg\" height=\"24px\"viewBox=\"0 0 24 24\"\n",
              "       width=\"24px\">\n",
              "    <path d=\"M0 0h24v24H0V0z\" fill=\"none\"/>\n",
              "    <path d=\"M18.56 5.44l.94 2.06.94-2.06 2.06-.94-2.06-.94-.94-2.06-.94 2.06-2.06.94zm-11 1L8.5 8.5l.94-2.06 2.06-.94-2.06-.94L8.5 2.5l-.94 2.06-2.06.94zm10 10l.94 2.06.94-2.06 2.06-.94-2.06-.94-.94-2.06-.94 2.06-2.06.94z\"/><path d=\"M17.41 7.96l-1.37-1.37c-.4-.4-.92-.59-1.43-.59-.52 0-1.04.2-1.43.59L10.3 9.45l-7.72 7.72c-.78.78-.78 2.05 0 2.83L4 21.41c.39.39.9.59 1.41.59.51 0 1.02-.2 1.41-.59l7.78-7.78 2.81-2.81c.8-.78.8-2.07 0-2.86zM5.41 20L4 18.59l7.72-7.72 1.47 1.35L5.41 20z\"/>\n",
              "  </svg>\n",
              "      </button>\n",
              "      \n",
              "  <style>\n",
              "    .colab-df-container {\n",
              "      display:flex;\n",
              "      flex-wrap:wrap;\n",
              "      gap: 12px;\n",
              "    }\n",
              "\n",
              "    .colab-df-convert {\n",
              "      background-color: #E8F0FE;\n",
              "      border: none;\n",
              "      border-radius: 50%;\n",
              "      cursor: pointer;\n",
              "      display: none;\n",
              "      fill: #1967D2;\n",
              "      height: 32px;\n",
              "      padding: 0 0 0 0;\n",
              "      width: 32px;\n",
              "    }\n",
              "\n",
              "    .colab-df-convert:hover {\n",
              "      background-color: #E2EBFA;\n",
              "      box-shadow: 0px 1px 2px rgba(60, 64, 67, 0.3), 0px 1px 3px 1px rgba(60, 64, 67, 0.15);\n",
              "      fill: #174EA6;\n",
              "    }\n",
              "\n",
              "    [theme=dark] .colab-df-convert {\n",
              "      background-color: #3B4455;\n",
              "      fill: #D2E3FC;\n",
              "    }\n",
              "\n",
              "    [theme=dark] .colab-df-convert:hover {\n",
              "      background-color: #434B5C;\n",
              "      box-shadow: 0px 1px 3px 1px rgba(0, 0, 0, 0.15);\n",
              "      filter: drop-shadow(0px 1px 2px rgba(0, 0, 0, 0.3));\n",
              "      fill: #FFFFFF;\n",
              "    }\n",
              "  </style>\n",
              "\n",
              "      <script>\n",
              "        const buttonEl =\n",
              "          document.querySelector('#df-89b15141-eeaa-4397-b8e3-5e18fbb6774d button.colab-df-convert');\n",
              "        buttonEl.style.display =\n",
              "          google.colab.kernel.accessAllowed ? 'block' : 'none';\n",
              "\n",
              "        async function convertToInteractive(key) {\n",
              "          const element = document.querySelector('#df-89b15141-eeaa-4397-b8e3-5e18fbb6774d');\n",
              "          const dataTable =\n",
              "            await google.colab.kernel.invokeFunction('convertToInteractive',\n",
              "                                                     [key], {});\n",
              "          if (!dataTable) return;\n",
              "\n",
              "          const docLinkHtml = 'Like what you see? Visit the ' +\n",
              "            '<a target=\"_blank\" href=https://colab.research.google.com/notebooks/data_table.ipynb>data table notebook</a>'\n",
              "            + ' to learn more about interactive tables.';\n",
              "          element.innerHTML = '';\n",
              "          dataTable['output_type'] = 'display_data';\n",
              "          await google.colab.output.renderOutput(dataTable, element);\n",
              "          const docLink = document.createElement('div');\n",
              "          docLink.innerHTML = docLinkHtml;\n",
              "          element.appendChild(docLink);\n",
              "        }\n",
              "      </script>\n",
              "    </div>\n",
              "  </div>\n",
              "  "
            ],
            "text/plain": [
              "       class cap-shape cap-surface  ... spore-print-color population habitat\n",
              "count   8124      8124        8124  ...              8124       8124    8124\n",
              "unique     2         6           4  ...                 9          6       7\n",
              "top        e         x           y  ...                 w          v       d\n",
              "freq    4208      3656        3244  ...              2388       4040    3148\n",
              "\n",
              "[4 rows x 23 columns]"
            ]
          },
          "metadata": {},
          "execution_count": 242
        }
      ]
    },
    {
      "cell_type": "code",
      "source": [
        "from sklearn.preprocessing import LabelEncoder"
      ],
      "metadata": {
        "id": "zbrAZHhom0AB"
      },
      "execution_count": 243,
      "outputs": []
    },
    {
      "cell_type": "code",
      "source": [
        "le=LabelEncoder()"
      ],
      "metadata": {
        "id": "VhBnnBzNpWq1"
      },
      "execution_count": 244,
      "outputs": []
    },
    {
      "cell_type": "code",
      "source": [
        "df=data.apply(func=le.fit_transform)"
      ],
      "metadata": {
        "id": "1XO7Prj_nFLJ"
      },
      "execution_count": 245,
      "outputs": []
    },
    {
      "cell_type": "code",
      "source": [
        "df.head()"
      ],
      "metadata": {
        "colab": {
          "base_uri": "https://localhost:8080/",
          "height": 322
        },
        "id": "X82K5oR8nGvo",
        "outputId": "a6abefaa-2673-4c33-98b6-812b50051d67"
      },
      "execution_count": 246,
      "outputs": [
        {
          "output_type": "execute_result",
          "data": {
            "text/html": [
              "\n",
              "  <div id=\"df-dc6809d3-3033-4850-9e56-ef02896db430\">\n",
              "    <div class=\"colab-df-container\">\n",
              "      <div>\n",
              "<style scoped>\n",
              "    .dataframe tbody tr th:only-of-type {\n",
              "        vertical-align: middle;\n",
              "    }\n",
              "\n",
              "    .dataframe tbody tr th {\n",
              "        vertical-align: top;\n",
              "    }\n",
              "\n",
              "    .dataframe thead th {\n",
              "        text-align: right;\n",
              "    }\n",
              "</style>\n",
              "<table border=\"1\" class=\"dataframe\">\n",
              "  <thead>\n",
              "    <tr style=\"text-align: right;\">\n",
              "      <th></th>\n",
              "      <th>class</th>\n",
              "      <th>cap-shape</th>\n",
              "      <th>cap-surface</th>\n",
              "      <th>cap-color</th>\n",
              "      <th>bruises</th>\n",
              "      <th>odor</th>\n",
              "      <th>gill-attachment</th>\n",
              "      <th>gill-spacing</th>\n",
              "      <th>gill-size</th>\n",
              "      <th>gill-color</th>\n",
              "      <th>stalk-shape</th>\n",
              "      <th>stalk-root</th>\n",
              "      <th>stalk-surface-above-ring</th>\n",
              "      <th>stalk-surface-below-ring</th>\n",
              "      <th>stalk-color-above-ring</th>\n",
              "      <th>stalk-color-below-ring</th>\n",
              "      <th>veil-type</th>\n",
              "      <th>veil-color</th>\n",
              "      <th>ring-number</th>\n",
              "      <th>ring-type</th>\n",
              "      <th>spore-print-color</th>\n",
              "      <th>population</th>\n",
              "      <th>habitat</th>\n",
              "    </tr>\n",
              "  </thead>\n",
              "  <tbody>\n",
              "    <tr>\n",
              "      <th>0</th>\n",
              "      <td>1</td>\n",
              "      <td>5</td>\n",
              "      <td>2</td>\n",
              "      <td>4</td>\n",
              "      <td>1</td>\n",
              "      <td>6</td>\n",
              "      <td>1</td>\n",
              "      <td>0</td>\n",
              "      <td>1</td>\n",
              "      <td>4</td>\n",
              "      <td>0</td>\n",
              "      <td>3</td>\n",
              "      <td>2</td>\n",
              "      <td>2</td>\n",
              "      <td>7</td>\n",
              "      <td>7</td>\n",
              "      <td>0</td>\n",
              "      <td>2</td>\n",
              "      <td>1</td>\n",
              "      <td>4</td>\n",
              "      <td>2</td>\n",
              "      <td>3</td>\n",
              "      <td>5</td>\n",
              "    </tr>\n",
              "    <tr>\n",
              "      <th>1</th>\n",
              "      <td>0</td>\n",
              "      <td>5</td>\n",
              "      <td>2</td>\n",
              "      <td>9</td>\n",
              "      <td>1</td>\n",
              "      <td>0</td>\n",
              "      <td>1</td>\n",
              "      <td>0</td>\n",
              "      <td>0</td>\n",
              "      <td>4</td>\n",
              "      <td>0</td>\n",
              "      <td>2</td>\n",
              "      <td>2</td>\n",
              "      <td>2</td>\n",
              "      <td>7</td>\n",
              "      <td>7</td>\n",
              "      <td>0</td>\n",
              "      <td>2</td>\n",
              "      <td>1</td>\n",
              "      <td>4</td>\n",
              "      <td>3</td>\n",
              "      <td>2</td>\n",
              "      <td>1</td>\n",
              "    </tr>\n",
              "    <tr>\n",
              "      <th>2</th>\n",
              "      <td>0</td>\n",
              "      <td>0</td>\n",
              "      <td>2</td>\n",
              "      <td>8</td>\n",
              "      <td>1</td>\n",
              "      <td>3</td>\n",
              "      <td>1</td>\n",
              "      <td>0</td>\n",
              "      <td>0</td>\n",
              "      <td>5</td>\n",
              "      <td>0</td>\n",
              "      <td>2</td>\n",
              "      <td>2</td>\n",
              "      <td>2</td>\n",
              "      <td>7</td>\n",
              "      <td>7</td>\n",
              "      <td>0</td>\n",
              "      <td>2</td>\n",
              "      <td>1</td>\n",
              "      <td>4</td>\n",
              "      <td>3</td>\n",
              "      <td>2</td>\n",
              "      <td>3</td>\n",
              "    </tr>\n",
              "    <tr>\n",
              "      <th>3</th>\n",
              "      <td>1</td>\n",
              "      <td>5</td>\n",
              "      <td>3</td>\n",
              "      <td>8</td>\n",
              "      <td>1</td>\n",
              "      <td>6</td>\n",
              "      <td>1</td>\n",
              "      <td>0</td>\n",
              "      <td>1</td>\n",
              "      <td>5</td>\n",
              "      <td>0</td>\n",
              "      <td>3</td>\n",
              "      <td>2</td>\n",
              "      <td>2</td>\n",
              "      <td>7</td>\n",
              "      <td>7</td>\n",
              "      <td>0</td>\n",
              "      <td>2</td>\n",
              "      <td>1</td>\n",
              "      <td>4</td>\n",
              "      <td>2</td>\n",
              "      <td>3</td>\n",
              "      <td>5</td>\n",
              "    </tr>\n",
              "    <tr>\n",
              "      <th>4</th>\n",
              "      <td>0</td>\n",
              "      <td>5</td>\n",
              "      <td>2</td>\n",
              "      <td>3</td>\n",
              "      <td>0</td>\n",
              "      <td>5</td>\n",
              "      <td>1</td>\n",
              "      <td>1</td>\n",
              "      <td>0</td>\n",
              "      <td>4</td>\n",
              "      <td>1</td>\n",
              "      <td>3</td>\n",
              "      <td>2</td>\n",
              "      <td>2</td>\n",
              "      <td>7</td>\n",
              "      <td>7</td>\n",
              "      <td>0</td>\n",
              "      <td>2</td>\n",
              "      <td>1</td>\n",
              "      <td>0</td>\n",
              "      <td>3</td>\n",
              "      <td>0</td>\n",
              "      <td>1</td>\n",
              "    </tr>\n",
              "  </tbody>\n",
              "</table>\n",
              "</div>\n",
              "      <button class=\"colab-df-convert\" onclick=\"convertToInteractive('df-dc6809d3-3033-4850-9e56-ef02896db430')\"\n",
              "              title=\"Convert this dataframe to an interactive table.\"\n",
              "              style=\"display:none;\">\n",
              "        \n",
              "  <svg xmlns=\"http://www.w3.org/2000/svg\" height=\"24px\"viewBox=\"0 0 24 24\"\n",
              "       width=\"24px\">\n",
              "    <path d=\"M0 0h24v24H0V0z\" fill=\"none\"/>\n",
              "    <path d=\"M18.56 5.44l.94 2.06.94-2.06 2.06-.94-2.06-.94-.94-2.06-.94 2.06-2.06.94zm-11 1L8.5 8.5l.94-2.06 2.06-.94-2.06-.94L8.5 2.5l-.94 2.06-2.06.94zm10 10l.94 2.06.94-2.06 2.06-.94-2.06-.94-.94-2.06-.94 2.06-2.06.94z\"/><path d=\"M17.41 7.96l-1.37-1.37c-.4-.4-.92-.59-1.43-.59-.52 0-1.04.2-1.43.59L10.3 9.45l-7.72 7.72c-.78.78-.78 2.05 0 2.83L4 21.41c.39.39.9.59 1.41.59.51 0 1.02-.2 1.41-.59l7.78-7.78 2.81-2.81c.8-.78.8-2.07 0-2.86zM5.41 20L4 18.59l7.72-7.72 1.47 1.35L5.41 20z\"/>\n",
              "  </svg>\n",
              "      </button>\n",
              "      \n",
              "  <style>\n",
              "    .colab-df-container {\n",
              "      display:flex;\n",
              "      flex-wrap:wrap;\n",
              "      gap: 12px;\n",
              "    }\n",
              "\n",
              "    .colab-df-convert {\n",
              "      background-color: #E8F0FE;\n",
              "      border: none;\n",
              "      border-radius: 50%;\n",
              "      cursor: pointer;\n",
              "      display: none;\n",
              "      fill: #1967D2;\n",
              "      height: 32px;\n",
              "      padding: 0 0 0 0;\n",
              "      width: 32px;\n",
              "    }\n",
              "\n",
              "    .colab-df-convert:hover {\n",
              "      background-color: #E2EBFA;\n",
              "      box-shadow: 0px 1px 2px rgba(60, 64, 67, 0.3), 0px 1px 3px 1px rgba(60, 64, 67, 0.15);\n",
              "      fill: #174EA6;\n",
              "    }\n",
              "\n",
              "    [theme=dark] .colab-df-convert {\n",
              "      background-color: #3B4455;\n",
              "      fill: #D2E3FC;\n",
              "    }\n",
              "\n",
              "    [theme=dark] .colab-df-convert:hover {\n",
              "      background-color: #434B5C;\n",
              "      box-shadow: 0px 1px 3px 1px rgba(0, 0, 0, 0.15);\n",
              "      filter: drop-shadow(0px 1px 2px rgba(0, 0, 0, 0.3));\n",
              "      fill: #FFFFFF;\n",
              "    }\n",
              "  </style>\n",
              "\n",
              "      <script>\n",
              "        const buttonEl =\n",
              "          document.querySelector('#df-dc6809d3-3033-4850-9e56-ef02896db430 button.colab-df-convert');\n",
              "        buttonEl.style.display =\n",
              "          google.colab.kernel.accessAllowed ? 'block' : 'none';\n",
              "\n",
              "        async function convertToInteractive(key) {\n",
              "          const element = document.querySelector('#df-dc6809d3-3033-4850-9e56-ef02896db430');\n",
              "          const dataTable =\n",
              "            await google.colab.kernel.invokeFunction('convertToInteractive',\n",
              "                                                     [key], {});\n",
              "          if (!dataTable) return;\n",
              "\n",
              "          const docLinkHtml = 'Like what you see? Visit the ' +\n",
              "            '<a target=\"_blank\" href=https://colab.research.google.com/notebooks/data_table.ipynb>data table notebook</a>'\n",
              "            + ' to learn more about interactive tables.';\n",
              "          element.innerHTML = '';\n",
              "          dataTable['output_type'] = 'display_data';\n",
              "          await google.colab.output.renderOutput(dataTable, element);\n",
              "          const docLink = document.createElement('div');\n",
              "          docLink.innerHTML = docLinkHtml;\n",
              "          element.appendChild(docLink);\n",
              "        }\n",
              "      </script>\n",
              "    </div>\n",
              "  </div>\n",
              "  "
            ],
            "text/plain": [
              "   class  cap-shape  cap-surface  ...  spore-print-color  population  habitat\n",
              "0      1          5            2  ...                  2           3        5\n",
              "1      0          5            2  ...                  3           2        1\n",
              "2      0          0            2  ...                  3           2        3\n",
              "3      1          5            3  ...                  2           3        5\n",
              "4      0          5            2  ...                  3           0        1\n",
              "\n",
              "[5 rows x 23 columns]"
            ]
          },
          "metadata": {},
          "execution_count": 246
        }
      ]
    },
    {
      "cell_type": "code",
      "source": [
        "y=df['class']\n",
        "X=df.drop(labels=['class'],axis=1)\n",
        "df.shape"
      ],
      "metadata": {
        "colab": {
          "base_uri": "https://localhost:8080/"
        },
        "id": "Pv_stCv2nK-Z",
        "outputId": "a04c2798-c3f3-4a84-d968-7fdaba6642be"
      },
      "execution_count": 247,
      "outputs": [
        {
          "output_type": "execute_result",
          "data": {
            "text/plain": [
              "(8124, 23)"
            ]
          },
          "metadata": {},
          "execution_count": 247
        }
      ]
    },
    {
      "cell_type": "code",
      "source": [
        "X.head()\n",
        "X.shape[0],y.shape"
      ],
      "metadata": {
        "colab": {
          "base_uri": "https://localhost:8080/"
        },
        "id": "Kac3olHInMCJ",
        "outputId": "126b2253-5c54-4978-9df4-94c007f1dd4d"
      },
      "execution_count": 248,
      "outputs": [
        {
          "output_type": "execute_result",
          "data": {
            "text/plain": [
              "(8124, (8124,))"
            ]
          },
          "metadata": {},
          "execution_count": 248
        }
      ]
    },
    {
      "cell_type": "code",
      "source": [
        "from sklearn.model_selection import train_test_split"
      ],
      "metadata": {
        "id": "3QVE3vtCqPVh"
      },
      "execution_count": 249,
      "outputs": []
    },
    {
      "cell_type": "code",
      "source": [
        "X_train, X_test, y_train, y_test = train_test_split(\n",
        "...     X, y, test_size=0.33, random_state=42)"
      ],
      "metadata": {
        "id": "PUv1oZUxtzjw"
      },
      "execution_count": 250,
      "outputs": []
    },
    {
      "cell_type": "code",
      "source": [
        "model=Sequential()"
      ],
      "metadata": {
        "id": "lRctkrSTt1dS"
      },
      "execution_count": 251,
      "outputs": []
    },
    {
      "cell_type": "code",
      "source": [
        "model.add(Dense(10,activation='sigmoid',input_dim=X.shape[1]))"
      ],
      "metadata": {
        "id": "sLn-VSLxt9hr"
      },
      "execution_count": 252,
      "outputs": []
    },
    {
      "cell_type": "code",
      "source": [
        "model.add(Dense(5,activation='sigmoid'))"
      ],
      "metadata": {
        "id": "aH9tE7ixuNsC"
      },
      "execution_count": 253,
      "outputs": []
    },
    {
      "cell_type": "code",
      "source": [
        "model.add(Dense(1,activation='sigmoid'))"
      ],
      "metadata": {
        "id": "arzeLmtQuUX9"
      },
      "execution_count": 254,
      "outputs": []
    },
    {
      "cell_type": "code",
      "source": [
        "model.compile(loss='mse',optimizer='adam',metrics=['accuracy'])"
      ],
      "metadata": {
        "id": "rHGuVgJFuiBE"
      },
      "execution_count": 259,
      "outputs": []
    },
    {
      "cell_type": "code",
      "source": [
        "model.summary()"
      ],
      "metadata": {
        "colab": {
          "base_uri": "https://localhost:8080/"
        },
        "id": "YYH4oGzcwvwc",
        "outputId": "8ae4eaf3-1369-4a0a-f340-74ba90f91c1f"
      },
      "execution_count": 260,
      "outputs": [
        {
          "output_type": "stream",
          "name": "stdout",
          "text": [
            "Model: \"sequential_5\"\n",
            "_________________________________________________________________\n",
            " Layer (type)                Output Shape              Param #   \n",
            "=================================================================\n",
            " dense_18 (Dense)            (None, 10)                230       \n",
            "                                                                 \n",
            " dense_19 (Dense)            (None, 5)                 55        \n",
            "                                                                 \n",
            " dense_20 (Dense)            (None, 1)                 6         \n",
            "                                                                 \n",
            "=================================================================\n",
            "Total params: 291\n",
            "Trainable params: 291\n",
            "Non-trainable params: 0\n",
            "_________________________________________________________________\n"
          ]
        }
      ]
    },
    {
      "cell_type": "code",
      "source": [
        "model.fit(X_train,y_train,epochs=300,batch_size=1000,verbose=1)"
      ],
      "metadata": {
        "colab": {
          "base_uri": "https://localhost:8080/"
        },
        "id": "oiEL-neKup6r",
        "outputId": "5820ef6e-84b7-4b20-a2ad-9271a89d1500"
      },
      "execution_count": 261,
      "outputs": [
        {
          "output_type": "stream",
          "name": "stdout",
          "text": [
            "Epoch 1/300\n",
            "6/6 [==============================] - 1s 5ms/step - loss: 0.0520 - accuracy: 0.9434\n",
            "Epoch 2/300\n",
            "6/6 [==============================] - 0s 5ms/step - loss: 0.0517 - accuracy: 0.9438\n",
            "Epoch 3/300\n",
            "6/6 [==============================] - 0s 5ms/step - loss: 0.0514 - accuracy: 0.9438\n",
            "Epoch 4/300\n",
            "6/6 [==============================] - 0s 4ms/step - loss: 0.0511 - accuracy: 0.9440\n",
            "Epoch 5/300\n",
            "6/6 [==============================] - 0s 5ms/step - loss: 0.0508 - accuracy: 0.9438\n",
            "Epoch 6/300\n",
            "6/6 [==============================] - 0s 4ms/step - loss: 0.0505 - accuracy: 0.9438\n",
            "Epoch 7/300\n",
            "6/6 [==============================] - 0s 4ms/step - loss: 0.0502 - accuracy: 0.9436\n",
            "Epoch 8/300\n",
            "6/6 [==============================] - 0s 4ms/step - loss: 0.0499 - accuracy: 0.9438\n",
            "Epoch 9/300\n",
            "6/6 [==============================] - 0s 4ms/step - loss: 0.0497 - accuracy: 0.9438\n",
            "Epoch 10/300\n",
            "6/6 [==============================] - 0s 4ms/step - loss: 0.0494 - accuracy: 0.9436\n",
            "Epoch 11/300\n",
            "6/6 [==============================] - 0s 8ms/step - loss: 0.0491 - accuracy: 0.9434\n",
            "Epoch 12/300\n",
            "6/6 [==============================] - 0s 5ms/step - loss: 0.0489 - accuracy: 0.9436\n",
            "Epoch 13/300\n",
            "6/6 [==============================] - 0s 5ms/step - loss: 0.0486 - accuracy: 0.9434\n",
            "Epoch 14/300\n",
            "6/6 [==============================] - 0s 4ms/step - loss: 0.0484 - accuracy: 0.9434\n",
            "Epoch 15/300\n",
            "6/6 [==============================] - 0s 7ms/step - loss: 0.0481 - accuracy: 0.9438\n",
            "Epoch 16/300\n",
            "6/6 [==============================] - 0s 4ms/step - loss: 0.0479 - accuracy: 0.9436\n",
            "Epoch 17/300\n",
            "6/6 [==============================] - 0s 4ms/step - loss: 0.0476 - accuracy: 0.9438\n",
            "Epoch 18/300\n",
            "6/6 [==============================] - 0s 5ms/step - loss: 0.0474 - accuracy: 0.9436\n",
            "Epoch 19/300\n",
            "6/6 [==============================] - 0s 4ms/step - loss: 0.0472 - accuracy: 0.9434\n",
            "Epoch 20/300\n",
            "6/6 [==============================] - 0s 5ms/step - loss: 0.0469 - accuracy: 0.9434\n",
            "Epoch 21/300\n",
            "6/6 [==============================] - 0s 5ms/step - loss: 0.0467 - accuracy: 0.9441\n",
            "Epoch 22/300\n",
            "6/6 [==============================] - 0s 4ms/step - loss: 0.0465 - accuracy: 0.9438\n",
            "Epoch 23/300\n",
            "6/6 [==============================] - 0s 4ms/step - loss: 0.0463 - accuracy: 0.9438\n",
            "Epoch 24/300\n",
            "6/6 [==============================] - 0s 4ms/step - loss: 0.0461 - accuracy: 0.9438\n",
            "Epoch 25/300\n",
            "6/6 [==============================] - 0s 5ms/step - loss: 0.0458 - accuracy: 0.9438\n",
            "Epoch 26/300\n",
            "6/6 [==============================] - 0s 5ms/step - loss: 0.0456 - accuracy: 0.9440\n",
            "Epoch 27/300\n",
            "6/6 [==============================] - 0s 4ms/step - loss: 0.0454 - accuracy: 0.9438\n",
            "Epoch 28/300\n",
            "6/6 [==============================] - 0s 4ms/step - loss: 0.0452 - accuracy: 0.9438\n",
            "Epoch 29/300\n",
            "6/6 [==============================] - 0s 4ms/step - loss: 0.0450 - accuracy: 0.9436\n",
            "Epoch 30/300\n",
            "6/6 [==============================] - 0s 4ms/step - loss: 0.0448 - accuracy: 0.9438\n",
            "Epoch 31/300\n",
            "6/6 [==============================] - 0s 5ms/step - loss: 0.0446 - accuracy: 0.9443\n",
            "Epoch 32/300\n",
            "6/6 [==============================] - 0s 4ms/step - loss: 0.0444 - accuracy: 0.9440\n",
            "Epoch 33/300\n",
            "6/6 [==============================] - 0s 5ms/step - loss: 0.0441 - accuracy: 0.9438\n",
            "Epoch 34/300\n",
            "6/6 [==============================] - 0s 6ms/step - loss: 0.0439 - accuracy: 0.9438\n",
            "Epoch 35/300\n",
            "6/6 [==============================] - 0s 5ms/step - loss: 0.0437 - accuracy: 0.9441\n",
            "Epoch 36/300\n",
            "6/6 [==============================] - 0s 5ms/step - loss: 0.0435 - accuracy: 0.9441\n",
            "Epoch 37/300\n",
            "6/6 [==============================] - 0s 6ms/step - loss: 0.0433 - accuracy: 0.9441\n",
            "Epoch 38/300\n",
            "6/6 [==============================] - 0s 7ms/step - loss: 0.0430 - accuracy: 0.9441\n",
            "Epoch 39/300\n",
            "6/6 [==============================] - 0s 5ms/step - loss: 0.0428 - accuracy: 0.9438\n",
            "Epoch 40/300\n",
            "6/6 [==============================] - 0s 4ms/step - loss: 0.0425 - accuracy: 0.9438\n",
            "Epoch 41/300\n",
            "6/6 [==============================] - 0s 5ms/step - loss: 0.0422 - accuracy: 0.9438\n",
            "Epoch 42/300\n",
            "6/6 [==============================] - 0s 5ms/step - loss: 0.0419 - accuracy: 0.9438\n",
            "Epoch 43/300\n",
            "6/6 [==============================] - 0s 6ms/step - loss: 0.0415 - accuracy: 0.9432\n",
            "Epoch 44/300\n",
            "6/6 [==============================] - 0s 6ms/step - loss: 0.0411 - accuracy: 0.9434\n",
            "Epoch 45/300\n",
            "6/6 [==============================] - 0s 5ms/step - loss: 0.0408 - accuracy: 0.9430\n",
            "Epoch 46/300\n",
            "6/6 [==============================] - 0s 5ms/step - loss: 0.0405 - accuracy: 0.9430\n",
            "Epoch 47/300\n",
            "6/6 [==============================] - 0s 5ms/step - loss: 0.0402 - accuracy: 0.9432\n",
            "Epoch 48/300\n",
            "6/6 [==============================] - 0s 6ms/step - loss: 0.0399 - accuracy: 0.9430\n",
            "Epoch 49/300\n",
            "6/6 [==============================] - 0s 5ms/step - loss: 0.0396 - accuracy: 0.9427\n",
            "Epoch 50/300\n",
            "6/6 [==============================] - 0s 5ms/step - loss: 0.0393 - accuracy: 0.9427\n",
            "Epoch 51/300\n",
            "6/6 [==============================] - 0s 5ms/step - loss: 0.0391 - accuracy: 0.9423\n",
            "Epoch 52/300\n",
            "6/6 [==============================] - 0s 5ms/step - loss: 0.0388 - accuracy: 0.9408\n",
            "Epoch 53/300\n",
            "6/6 [==============================] - 0s 4ms/step - loss: 0.0385 - accuracy: 0.9403\n",
            "Epoch 54/300\n",
            "6/6 [==============================] - 0s 5ms/step - loss: 0.0383 - accuracy: 0.9397\n",
            "Epoch 55/300\n",
            "6/6 [==============================] - 0s 5ms/step - loss: 0.0380 - accuracy: 0.9385\n",
            "Epoch 56/300\n",
            "6/6 [==============================] - 0s 6ms/step - loss: 0.0377 - accuracy: 0.9375\n",
            "Epoch 57/300\n",
            "6/6 [==============================] - 0s 5ms/step - loss: 0.0375 - accuracy: 0.9379\n",
            "Epoch 58/300\n",
            "6/6 [==============================] - 0s 5ms/step - loss: 0.0372 - accuracy: 0.9383\n",
            "Epoch 59/300\n",
            "6/6 [==============================] - 0s 5ms/step - loss: 0.0369 - accuracy: 0.9394\n",
            "Epoch 60/300\n",
            "6/6 [==============================] - 0s 4ms/step - loss: 0.0366 - accuracy: 0.9401\n",
            "Epoch 61/300\n",
            "6/6 [==============================] - 0s 4ms/step - loss: 0.0364 - accuracy: 0.9410\n",
            "Epoch 62/300\n",
            "6/6 [==============================] - 0s 5ms/step - loss: 0.0361 - accuracy: 0.9427\n",
            "Epoch 63/300\n",
            "6/6 [==============================] - 0s 9ms/step - loss: 0.0358 - accuracy: 0.9438\n",
            "Epoch 64/300\n",
            "6/6 [==============================] - 0s 7ms/step - loss: 0.0355 - accuracy: 0.9449\n",
            "Epoch 65/300\n",
            "6/6 [==============================] - 0s 8ms/step - loss: 0.0352 - accuracy: 0.9465\n",
            "Epoch 66/300\n",
            "6/6 [==============================] - 0s 7ms/step - loss: 0.0349 - accuracy: 0.9460\n",
            "Epoch 67/300\n",
            "6/6 [==============================] - 0s 9ms/step - loss: 0.0346 - accuracy: 0.9473\n",
            "Epoch 68/300\n",
            "6/6 [==============================] - 0s 9ms/step - loss: 0.0343 - accuracy: 0.9487\n",
            "Epoch 69/300\n",
            "6/6 [==============================] - 0s 14ms/step - loss: 0.0341 - accuracy: 0.9491\n",
            "Epoch 70/300\n",
            "6/6 [==============================] - 0s 12ms/step - loss: 0.0338 - accuracy: 0.9498\n",
            "Epoch 71/300\n",
            "6/6 [==============================] - 0s 7ms/step - loss: 0.0335 - accuracy: 0.9504\n",
            "Epoch 72/300\n",
            "6/6 [==============================] - 0s 5ms/step - loss: 0.0332 - accuracy: 0.9508\n",
            "Epoch 73/300\n",
            "6/6 [==============================] - 0s 10ms/step - loss: 0.0329 - accuracy: 0.9522\n",
            "Epoch 74/300\n",
            "6/6 [==============================] - 0s 9ms/step - loss: 0.0327 - accuracy: 0.9539\n",
            "Epoch 75/300\n",
            "6/6 [==============================] - 0s 5ms/step - loss: 0.0324 - accuracy: 0.9537\n",
            "Epoch 76/300\n",
            "6/6 [==============================] - 0s 4ms/step - loss: 0.0321 - accuracy: 0.9539\n",
            "Epoch 77/300\n",
            "6/6 [==============================] - 0s 3ms/step - loss: 0.0319 - accuracy: 0.9550\n",
            "Epoch 78/300\n",
            "6/6 [==============================] - 0s 3ms/step - loss: 0.0316 - accuracy: 0.9561\n",
            "Epoch 79/300\n",
            "6/6 [==============================] - 0s 3ms/step - loss: 0.0313 - accuracy: 0.9557\n",
            "Epoch 80/300\n",
            "6/6 [==============================] - 0s 4ms/step - loss: 0.0311 - accuracy: 0.9561\n",
            "Epoch 81/300\n",
            "6/6 [==============================] - 0s 3ms/step - loss: 0.0308 - accuracy: 0.9576\n",
            "Epoch 82/300\n",
            "6/6 [==============================] - 0s 3ms/step - loss: 0.0305 - accuracy: 0.9583\n",
            "Epoch 83/300\n",
            "6/6 [==============================] - 0s 3ms/step - loss: 0.0303 - accuracy: 0.9574\n",
            "Epoch 84/300\n",
            "6/6 [==============================] - 0s 3ms/step - loss: 0.0301 - accuracy: 0.9577\n",
            "Epoch 85/300\n",
            "6/6 [==============================] - 0s 4ms/step - loss: 0.0298 - accuracy: 0.9590\n",
            "Epoch 86/300\n",
            "6/6 [==============================] - 0s 4ms/step - loss: 0.0296 - accuracy: 0.9598\n",
            "Epoch 87/300\n",
            "6/6 [==============================] - 0s 3ms/step - loss: 0.0293 - accuracy: 0.9607\n",
            "Epoch 88/300\n",
            "6/6 [==============================] - 0s 4ms/step - loss: 0.0291 - accuracy: 0.9605\n",
            "Epoch 89/300\n",
            "6/6 [==============================] - 0s 3ms/step - loss: 0.0289 - accuracy: 0.9605\n",
            "Epoch 90/300\n",
            "6/6 [==============================] - 0s 3ms/step - loss: 0.0286 - accuracy: 0.9616\n",
            "Epoch 91/300\n",
            "6/6 [==============================] - 0s 3ms/step - loss: 0.0284 - accuracy: 0.9625\n",
            "Epoch 92/300\n",
            "6/6 [==============================] - 0s 3ms/step - loss: 0.0282 - accuracy: 0.9620\n",
            "Epoch 93/300\n",
            "6/6 [==============================] - 0s 3ms/step - loss: 0.0280 - accuracy: 0.9629\n",
            "Epoch 94/300\n",
            "6/6 [==============================] - 0s 3ms/step - loss: 0.0278 - accuracy: 0.9636\n",
            "Epoch 95/300\n",
            "6/6 [==============================] - 0s 3ms/step - loss: 0.0276 - accuracy: 0.9636\n",
            "Epoch 96/300\n",
            "6/6 [==============================] - 0s 3ms/step - loss: 0.0274 - accuracy: 0.9642\n",
            "Epoch 97/300\n",
            "6/6 [==============================] - 0s 3ms/step - loss: 0.0272 - accuracy: 0.9644\n",
            "Epoch 98/300\n",
            "6/6 [==============================] - 0s 3ms/step - loss: 0.0270 - accuracy: 0.9655\n",
            "Epoch 99/300\n",
            "6/6 [==============================] - 0s 3ms/step - loss: 0.0268 - accuracy: 0.9644\n",
            "Epoch 100/300\n",
            "6/6 [==============================] - 0s 4ms/step - loss: 0.0266 - accuracy: 0.9647\n",
            "Epoch 101/300\n",
            "6/6 [==============================] - 0s 4ms/step - loss: 0.0264 - accuracy: 0.9658\n",
            "Epoch 102/300\n",
            "6/6 [==============================] - 0s 5ms/step - loss: 0.0262 - accuracy: 0.9669\n",
            "Epoch 103/300\n",
            "6/6 [==============================] - 0s 4ms/step - loss: 0.0260 - accuracy: 0.9673\n",
            "Epoch 104/300\n",
            "6/6 [==============================] - 0s 3ms/step - loss: 0.0258 - accuracy: 0.9669\n",
            "Epoch 105/300\n",
            "6/6 [==============================] - 0s 3ms/step - loss: 0.0256 - accuracy: 0.9682\n",
            "Epoch 106/300\n",
            "6/6 [==============================] - 0s 3ms/step - loss: 0.0254 - accuracy: 0.9688\n",
            "Epoch 107/300\n",
            "6/6 [==============================] - 0s 3ms/step - loss: 0.0253 - accuracy: 0.9690\n",
            "Epoch 108/300\n",
            "6/6 [==============================] - 0s 3ms/step - loss: 0.0251 - accuracy: 0.9690\n",
            "Epoch 109/300\n",
            "6/6 [==============================] - 0s 3ms/step - loss: 0.0249 - accuracy: 0.9695\n",
            "Epoch 110/300\n",
            "6/6 [==============================] - 0s 3ms/step - loss: 0.0248 - accuracy: 0.9702\n",
            "Epoch 111/300\n",
            "6/6 [==============================] - 0s 3ms/step - loss: 0.0246 - accuracy: 0.9699\n",
            "Epoch 112/300\n",
            "6/6 [==============================] - 0s 4ms/step - loss: 0.0244 - accuracy: 0.9702\n",
            "Epoch 113/300\n",
            "6/6 [==============================] - 0s 3ms/step - loss: 0.0243 - accuracy: 0.9715\n",
            "Epoch 114/300\n",
            "6/6 [==============================] - 0s 4ms/step - loss: 0.0241 - accuracy: 0.9721\n",
            "Epoch 115/300\n",
            "6/6 [==============================] - 0s 4ms/step - loss: 0.0239 - accuracy: 0.9719\n",
            "Epoch 116/300\n",
            "6/6 [==============================] - 0s 4ms/step - loss: 0.0238 - accuracy: 0.9713\n",
            "Epoch 117/300\n",
            "6/6 [==============================] - 0s 5ms/step - loss: 0.0236 - accuracy: 0.9724\n",
            "Epoch 118/300\n",
            "6/6 [==============================] - 0s 4ms/step - loss: 0.0235 - accuracy: 0.9732\n",
            "Epoch 119/300\n",
            "6/6 [==============================] - 0s 3ms/step - loss: 0.0233 - accuracy: 0.9730\n",
            "Epoch 120/300\n",
            "6/6 [==============================] - 0s 3ms/step - loss: 0.0232 - accuracy: 0.9732\n",
            "Epoch 121/300\n",
            "6/6 [==============================] - 0s 4ms/step - loss: 0.0231 - accuracy: 0.9737\n",
            "Epoch 122/300\n",
            "6/6 [==============================] - 0s 4ms/step - loss: 0.0229 - accuracy: 0.9741\n",
            "Epoch 123/300\n",
            "6/6 [==============================] - 0s 3ms/step - loss: 0.0227 - accuracy: 0.9757\n",
            "Epoch 124/300\n",
            "6/6 [==============================] - 0s 3ms/step - loss: 0.0226 - accuracy: 0.9756\n",
            "Epoch 125/300\n",
            "6/6 [==============================] - 0s 3ms/step - loss: 0.0224 - accuracy: 0.9756\n",
            "Epoch 126/300\n",
            "6/6 [==============================] - 0s 3ms/step - loss: 0.0223 - accuracy: 0.9761\n",
            "Epoch 127/300\n",
            "6/6 [==============================] - 0s 3ms/step - loss: 0.0222 - accuracy: 0.9765\n",
            "Epoch 128/300\n",
            "6/6 [==============================] - 0s 3ms/step - loss: 0.0220 - accuracy: 0.9767\n",
            "Epoch 129/300\n",
            "6/6 [==============================] - 0s 3ms/step - loss: 0.0219 - accuracy: 0.9767\n",
            "Epoch 130/300\n",
            "6/6 [==============================] - 0s 3ms/step - loss: 0.0217 - accuracy: 0.9770\n",
            "Epoch 131/300\n",
            "6/6 [==============================] - 0s 3ms/step - loss: 0.0216 - accuracy: 0.9774\n",
            "Epoch 132/300\n",
            "6/6 [==============================] - 0s 3ms/step - loss: 0.0215 - accuracy: 0.9774\n",
            "Epoch 133/300\n",
            "6/6 [==============================] - 0s 4ms/step - loss: 0.0213 - accuracy: 0.9772\n",
            "Epoch 134/300\n",
            "6/6 [==============================] - 0s 3ms/step - loss: 0.0212 - accuracy: 0.9780\n",
            "Epoch 135/300\n",
            "6/6 [==============================] - 0s 3ms/step - loss: 0.0211 - accuracy: 0.9781\n",
            "Epoch 136/300\n",
            "6/6 [==============================] - 0s 4ms/step - loss: 0.0209 - accuracy: 0.9787\n",
            "Epoch 137/300\n",
            "6/6 [==============================] - 0s 4ms/step - loss: 0.0208 - accuracy: 0.9792\n",
            "Epoch 138/300\n",
            "6/6 [==============================] - 0s 4ms/step - loss: 0.0207 - accuracy: 0.9785\n",
            "Epoch 139/300\n",
            "6/6 [==============================] - 0s 4ms/step - loss: 0.0206 - accuracy: 0.9787\n",
            "Epoch 140/300\n",
            "6/6 [==============================] - 0s 4ms/step - loss: 0.0204 - accuracy: 0.9789\n",
            "Epoch 141/300\n",
            "6/6 [==============================] - 0s 4ms/step - loss: 0.0203 - accuracy: 0.9789\n",
            "Epoch 142/300\n",
            "6/6 [==============================] - 0s 4ms/step - loss: 0.0201 - accuracy: 0.9796\n",
            "Epoch 143/300\n",
            "6/6 [==============================] - 0s 3ms/step - loss: 0.0200 - accuracy: 0.9794\n",
            "Epoch 144/300\n",
            "6/6 [==============================] - 0s 3ms/step - loss: 0.0199 - accuracy: 0.9792\n",
            "Epoch 145/300\n",
            "6/6 [==============================] - 0s 4ms/step - loss: 0.0197 - accuracy: 0.9800\n",
            "Epoch 146/300\n",
            "6/6 [==============================] - 0s 3ms/step - loss: 0.0196 - accuracy: 0.9802\n",
            "Epoch 147/300\n",
            "6/6 [==============================] - 0s 4ms/step - loss: 0.0195 - accuracy: 0.9796\n",
            "Epoch 148/300\n",
            "6/6 [==============================] - 0s 3ms/step - loss: 0.0194 - accuracy: 0.9800\n",
            "Epoch 149/300\n",
            "6/6 [==============================] - 0s 4ms/step - loss: 0.0192 - accuracy: 0.9796\n",
            "Epoch 150/300\n",
            "6/6 [==============================] - 0s 3ms/step - loss: 0.0191 - accuracy: 0.9803\n",
            "Epoch 151/300\n",
            "6/6 [==============================] - 0s 4ms/step - loss: 0.0189 - accuracy: 0.9807\n",
            "Epoch 152/300\n",
            "6/6 [==============================] - 0s 4ms/step - loss: 0.0187 - accuracy: 0.9807\n",
            "Epoch 153/300\n",
            "6/6 [==============================] - 0s 3ms/step - loss: 0.0186 - accuracy: 0.9803\n",
            "Epoch 154/300\n",
            "6/6 [==============================] - 0s 3ms/step - loss: 0.0184 - accuracy: 0.9811\n",
            "Epoch 155/300\n",
            "6/6 [==============================] - 0s 4ms/step - loss: 0.0182 - accuracy: 0.9813\n",
            "Epoch 156/300\n",
            "6/6 [==============================] - 0s 3ms/step - loss: 0.0180 - accuracy: 0.9822\n",
            "Epoch 157/300\n",
            "6/6 [==============================] - 0s 4ms/step - loss: 0.0179 - accuracy: 0.9822\n",
            "Epoch 158/300\n",
            "6/6 [==============================] - 0s 4ms/step - loss: 0.0178 - accuracy: 0.9813\n",
            "Epoch 159/300\n",
            "6/6 [==============================] - 0s 3ms/step - loss: 0.0175 - accuracy: 0.9824\n",
            "Epoch 160/300\n",
            "6/6 [==============================] - 0s 4ms/step - loss: 0.0174 - accuracy: 0.9836\n",
            "Epoch 161/300\n",
            "6/6 [==============================] - 0s 4ms/step - loss: 0.0172 - accuracy: 0.9838\n",
            "Epoch 162/300\n",
            "6/6 [==============================] - 0s 3ms/step - loss: 0.0170 - accuracy: 0.9836\n",
            "Epoch 163/300\n",
            "6/6 [==============================] - 0s 3ms/step - loss: 0.0169 - accuracy: 0.9848\n",
            "Epoch 164/300\n",
            "6/6 [==============================] - 0s 4ms/step - loss: 0.0168 - accuracy: 0.9851\n",
            "Epoch 165/300\n",
            "6/6 [==============================] - 0s 5ms/step - loss: 0.0166 - accuracy: 0.9848\n",
            "Epoch 166/300\n",
            "6/6 [==============================] - 0s 4ms/step - loss: 0.0165 - accuracy: 0.9842\n",
            "Epoch 167/300\n",
            "6/6 [==============================] - 0s 3ms/step - loss: 0.0164 - accuracy: 0.9849\n",
            "Epoch 168/300\n",
            "6/6 [==============================] - 0s 3ms/step - loss: 0.0162 - accuracy: 0.9851\n",
            "Epoch 169/300\n",
            "6/6 [==============================] - 0s 3ms/step - loss: 0.0161 - accuracy: 0.9849\n",
            "Epoch 170/300\n",
            "6/6 [==============================] - 0s 3ms/step - loss: 0.0160 - accuracy: 0.9849\n",
            "Epoch 171/300\n",
            "6/6 [==============================] - 0s 4ms/step - loss: 0.0159 - accuracy: 0.9849\n",
            "Epoch 172/300\n",
            "6/6 [==============================] - 0s 6ms/step - loss: 0.0158 - accuracy: 0.9848\n",
            "Epoch 173/300\n",
            "6/6 [==============================] - 0s 4ms/step - loss: 0.0157 - accuracy: 0.9851\n",
            "Epoch 174/300\n",
            "6/6 [==============================] - 0s 4ms/step - loss: 0.0155 - accuracy: 0.9849\n",
            "Epoch 175/300\n",
            "6/6 [==============================] - 0s 5ms/step - loss: 0.0155 - accuracy: 0.9855\n",
            "Epoch 176/300\n",
            "6/6 [==============================] - 0s 4ms/step - loss: 0.0154 - accuracy: 0.9851\n",
            "Epoch 177/300\n",
            "6/6 [==============================] - 0s 3ms/step - loss: 0.0152 - accuracy: 0.9851\n",
            "Epoch 178/300\n",
            "6/6 [==============================] - 0s 5ms/step - loss: 0.0152 - accuracy: 0.9859\n",
            "Epoch 179/300\n",
            "6/6 [==============================] - 0s 4ms/step - loss: 0.0151 - accuracy: 0.9857\n",
            "Epoch 180/300\n",
            "6/6 [==============================] - 0s 4ms/step - loss: 0.0150 - accuracy: 0.9859\n",
            "Epoch 181/300\n",
            "6/6 [==============================] - 0s 3ms/step - loss: 0.0149 - accuracy: 0.9860\n",
            "Epoch 182/300\n",
            "6/6 [==============================] - 0s 4ms/step - loss: 0.0148 - accuracy: 0.9857\n",
            "Epoch 183/300\n",
            "6/6 [==============================] - 0s 3ms/step - loss: 0.0148 - accuracy: 0.9857\n",
            "Epoch 184/300\n",
            "6/6 [==============================] - 0s 5ms/step - loss: 0.0146 - accuracy: 0.9859\n",
            "Epoch 185/300\n",
            "6/6 [==============================] - 0s 3ms/step - loss: 0.0146 - accuracy: 0.9860\n",
            "Epoch 186/300\n",
            "6/6 [==============================] - 0s 3ms/step - loss: 0.0145 - accuracy: 0.9862\n",
            "Epoch 187/300\n",
            "6/6 [==============================] - 0s 4ms/step - loss: 0.0144 - accuracy: 0.9857\n",
            "Epoch 188/300\n",
            "6/6 [==============================] - 0s 3ms/step - loss: 0.0143 - accuracy: 0.9862\n",
            "Epoch 189/300\n",
            "6/6 [==============================] - 0s 5ms/step - loss: 0.0142 - accuracy: 0.9860\n",
            "Epoch 190/300\n",
            "6/6 [==============================] - 0s 3ms/step - loss: 0.0142 - accuracy: 0.9860\n",
            "Epoch 191/300\n",
            "6/6 [==============================] - 0s 3ms/step - loss: 0.0141 - accuracy: 0.9862\n",
            "Epoch 192/300\n",
            "6/6 [==============================] - 0s 3ms/step - loss: 0.0140 - accuracy: 0.9860\n",
            "Epoch 193/300\n",
            "6/6 [==============================] - 0s 3ms/step - loss: 0.0139 - accuracy: 0.9860\n",
            "Epoch 194/300\n",
            "6/6 [==============================] - 0s 3ms/step - loss: 0.0139 - accuracy: 0.9864\n",
            "Epoch 195/300\n",
            "6/6 [==============================] - 0s 3ms/step - loss: 0.0138 - accuracy: 0.9864\n",
            "Epoch 196/300\n",
            "6/6 [==============================] - 0s 3ms/step - loss: 0.0137 - accuracy: 0.9868\n",
            "Epoch 197/300\n",
            "6/6 [==============================] - 0s 3ms/step - loss: 0.0136 - accuracy: 0.9868\n",
            "Epoch 198/300\n",
            "6/6 [==============================] - 0s 3ms/step - loss: 0.0136 - accuracy: 0.9862\n",
            "Epoch 199/300\n",
            "6/6 [==============================] - 0s 4ms/step - loss: 0.0135 - accuracy: 0.9868\n",
            "Epoch 200/300\n",
            "6/6 [==============================] - 0s 4ms/step - loss: 0.0134 - accuracy: 0.9871\n",
            "Epoch 201/300\n",
            "6/6 [==============================] - 0s 3ms/step - loss: 0.0134 - accuracy: 0.9875\n",
            "Epoch 202/300\n",
            "6/6 [==============================] - 0s 4ms/step - loss: 0.0133 - accuracy: 0.9870\n",
            "Epoch 203/300\n",
            "6/6 [==============================] - 0s 3ms/step - loss: 0.0132 - accuracy: 0.9871\n",
            "Epoch 204/300\n",
            "6/6 [==============================] - 0s 4ms/step - loss: 0.0132 - accuracy: 0.9870\n",
            "Epoch 205/300\n",
            "6/6 [==============================] - 0s 4ms/step - loss: 0.0131 - accuracy: 0.9873\n",
            "Epoch 206/300\n",
            "6/6 [==============================] - 0s 4ms/step - loss: 0.0130 - accuracy: 0.9877\n",
            "Epoch 207/300\n",
            "6/6 [==============================] - 0s 6ms/step - loss: 0.0130 - accuracy: 0.9877\n",
            "Epoch 208/300\n",
            "6/6 [==============================] - 0s 4ms/step - loss: 0.0129 - accuracy: 0.9875\n",
            "Epoch 209/300\n",
            "6/6 [==============================] - 0s 3ms/step - loss: 0.0128 - accuracy: 0.9875\n",
            "Epoch 210/300\n",
            "6/6 [==============================] - 0s 4ms/step - loss: 0.0128 - accuracy: 0.9882\n",
            "Epoch 211/300\n",
            "6/6 [==============================] - 0s 4ms/step - loss: 0.0127 - accuracy: 0.9882\n",
            "Epoch 212/300\n",
            "6/6 [==============================] - 0s 3ms/step - loss: 0.0127 - accuracy: 0.9886\n",
            "Epoch 213/300\n",
            "6/6 [==============================] - 0s 4ms/step - loss: 0.0126 - accuracy: 0.9882\n",
            "Epoch 214/300\n",
            "6/6 [==============================] - 0s 4ms/step - loss: 0.0125 - accuracy: 0.9886\n",
            "Epoch 215/300\n",
            "6/6 [==============================] - 0s 4ms/step - loss: 0.0125 - accuracy: 0.9888\n",
            "Epoch 216/300\n",
            "6/6 [==============================] - 0s 4ms/step - loss: 0.0125 - accuracy: 0.9873\n",
            "Epoch 217/300\n",
            "6/6 [==============================] - 0s 4ms/step - loss: 0.0124 - accuracy: 0.9873\n",
            "Epoch 218/300\n",
            "6/6 [==============================] - 0s 4ms/step - loss: 0.0123 - accuracy: 0.9886\n",
            "Epoch 219/300\n",
            "6/6 [==============================] - 0s 4ms/step - loss: 0.0122 - accuracy: 0.9888\n",
            "Epoch 220/300\n",
            "6/6 [==============================] - 0s 4ms/step - loss: 0.0122 - accuracy: 0.9882\n",
            "Epoch 221/300\n",
            "6/6 [==============================] - 0s 5ms/step - loss: 0.0121 - accuracy: 0.9881\n",
            "Epoch 222/300\n",
            "6/6 [==============================] - 0s 3ms/step - loss: 0.0120 - accuracy: 0.9886\n",
            "Epoch 223/300\n",
            "6/6 [==============================] - 0s 4ms/step - loss: 0.0120 - accuracy: 0.9890\n",
            "Epoch 224/300\n",
            "6/6 [==============================] - 0s 3ms/step - loss: 0.0119 - accuracy: 0.9888\n",
            "Epoch 225/300\n",
            "6/6 [==============================] - 0s 6ms/step - loss: 0.0119 - accuracy: 0.9895\n",
            "Epoch 226/300\n",
            "6/6 [==============================] - 0s 4ms/step - loss: 0.0118 - accuracy: 0.9892\n",
            "Epoch 227/300\n",
            "6/6 [==============================] - 0s 3ms/step - loss: 0.0118 - accuracy: 0.9888\n",
            "Epoch 228/300\n",
            "6/6 [==============================] - 0s 4ms/step - loss: 0.0117 - accuracy: 0.9892\n",
            "Epoch 229/300\n",
            "6/6 [==============================] - 0s 4ms/step - loss: 0.0117 - accuracy: 0.9901\n",
            "Epoch 230/300\n",
            "6/6 [==============================] - 0s 3ms/step - loss: 0.0117 - accuracy: 0.9892\n",
            "Epoch 231/300\n",
            "6/6 [==============================] - 0s 3ms/step - loss: 0.0116 - accuracy: 0.9892\n",
            "Epoch 232/300\n",
            "6/6 [==============================] - 0s 3ms/step - loss: 0.0115 - accuracy: 0.9903\n",
            "Epoch 233/300\n",
            "6/6 [==============================] - 0s 4ms/step - loss: 0.0115 - accuracy: 0.9899\n",
            "Epoch 234/300\n",
            "6/6 [==============================] - 0s 4ms/step - loss: 0.0114 - accuracy: 0.9903\n",
            "Epoch 235/300\n",
            "6/6 [==============================] - 0s 4ms/step - loss: 0.0114 - accuracy: 0.9910\n",
            "Epoch 236/300\n",
            "6/6 [==============================] - 0s 4ms/step - loss: 0.0113 - accuracy: 0.9906\n",
            "Epoch 237/300\n",
            "6/6 [==============================] - 0s 4ms/step - loss: 0.0113 - accuracy: 0.9904\n",
            "Epoch 238/300\n",
            "6/6 [==============================] - 0s 5ms/step - loss: 0.0112 - accuracy: 0.9906\n",
            "Epoch 239/300\n",
            "6/6 [==============================] - 0s 4ms/step - loss: 0.0112 - accuracy: 0.9904\n",
            "Epoch 240/300\n",
            "6/6 [==============================] - 0s 4ms/step - loss: 0.0111 - accuracy: 0.9903\n",
            "Epoch 241/300\n",
            "6/6 [==============================] - 0s 4ms/step - loss: 0.0111 - accuracy: 0.9901\n",
            "Epoch 242/300\n",
            "6/6 [==============================] - 0s 6ms/step - loss: 0.0110 - accuracy: 0.9908\n",
            "Epoch 243/300\n",
            "6/6 [==============================] - 0s 3ms/step - loss: 0.0110 - accuracy: 0.9906\n",
            "Epoch 244/300\n",
            "6/6 [==============================] - 0s 4ms/step - loss: 0.0110 - accuracy: 0.9908\n",
            "Epoch 245/300\n",
            "6/6 [==============================] - 0s 4ms/step - loss: 0.0110 - accuracy: 0.9908\n",
            "Epoch 246/300\n",
            "6/6 [==============================] - 0s 4ms/step - loss: 0.0109 - accuracy: 0.9906\n",
            "Epoch 247/300\n",
            "6/6 [==============================] - 0s 4ms/step - loss: 0.0108 - accuracy: 0.9908\n",
            "Epoch 248/300\n",
            "6/6 [==============================] - 0s 4ms/step - loss: 0.0108 - accuracy: 0.9906\n",
            "Epoch 249/300\n",
            "6/6 [==============================] - 0s 4ms/step - loss: 0.0107 - accuracy: 0.9906\n",
            "Epoch 250/300\n",
            "6/6 [==============================] - 0s 3ms/step - loss: 0.0107 - accuracy: 0.9908\n",
            "Epoch 251/300\n",
            "6/6 [==============================] - 0s 4ms/step - loss: 0.0107 - accuracy: 0.9908\n",
            "Epoch 252/300\n",
            "6/6 [==============================] - 0s 4ms/step - loss: 0.0106 - accuracy: 0.9908\n",
            "Epoch 253/300\n",
            "6/6 [==============================] - 0s 3ms/step - loss: 0.0106 - accuracy: 0.9908\n",
            "Epoch 254/300\n",
            "6/6 [==============================] - 0s 4ms/step - loss: 0.0105 - accuracy: 0.9910\n",
            "Epoch 255/300\n",
            "6/6 [==============================] - 0s 4ms/step - loss: 0.0105 - accuracy: 0.9906\n",
            "Epoch 256/300\n",
            "6/6 [==============================] - 0s 3ms/step - loss: 0.0105 - accuracy: 0.9908\n",
            "Epoch 257/300\n",
            "6/6 [==============================] - 0s 3ms/step - loss: 0.0104 - accuracy: 0.9906\n",
            "Epoch 258/300\n",
            "6/6 [==============================] - 0s 4ms/step - loss: 0.0104 - accuracy: 0.9910\n",
            "Epoch 259/300\n",
            "6/6 [==============================] - 0s 4ms/step - loss: 0.0103 - accuracy: 0.9906\n",
            "Epoch 260/300\n",
            "6/6 [==============================] - 0s 4ms/step - loss: 0.0103 - accuracy: 0.9906\n",
            "Epoch 261/300\n",
            "6/6 [==============================] - 0s 4ms/step - loss: 0.0103 - accuracy: 0.9908\n",
            "Epoch 262/300\n",
            "6/6 [==============================] - 0s 4ms/step - loss: 0.0102 - accuracy: 0.9910\n",
            "Epoch 263/300\n",
            "6/6 [==============================] - 0s 5ms/step - loss: 0.0102 - accuracy: 0.9914\n",
            "Epoch 264/300\n",
            "6/6 [==============================] - 0s 4ms/step - loss: 0.0101 - accuracy: 0.9908\n",
            "Epoch 265/300\n",
            "6/6 [==============================] - 0s 4ms/step - loss: 0.0101 - accuracy: 0.9910\n",
            "Epoch 266/300\n",
            "6/6 [==============================] - 0s 4ms/step - loss: 0.0101 - accuracy: 0.9914\n",
            "Epoch 267/300\n",
            "6/6 [==============================] - 0s 4ms/step - loss: 0.0100 - accuracy: 0.9917\n",
            "Epoch 268/300\n",
            "6/6 [==============================] - 0s 4ms/step - loss: 0.0100 - accuracy: 0.9915\n",
            "Epoch 269/300\n",
            "6/6 [==============================] - 0s 4ms/step - loss: 0.0100 - accuracy: 0.9914\n",
            "Epoch 270/300\n",
            "6/6 [==============================] - 0s 3ms/step - loss: 0.0099 - accuracy: 0.9914\n",
            "Epoch 271/300\n",
            "6/6 [==============================] - 0s 4ms/step - loss: 0.0099 - accuracy: 0.9917\n",
            "Epoch 272/300\n",
            "6/6 [==============================] - 0s 4ms/step - loss: 0.0098 - accuracy: 0.9915\n",
            "Epoch 273/300\n",
            "6/6 [==============================] - 0s 4ms/step - loss: 0.0098 - accuracy: 0.9914\n",
            "Epoch 274/300\n",
            "6/6 [==============================] - 0s 5ms/step - loss: 0.0098 - accuracy: 0.9919\n",
            "Epoch 275/300\n",
            "6/6 [==============================] - 0s 5ms/step - loss: 0.0097 - accuracy: 0.9917\n",
            "Epoch 276/300\n",
            "6/6 [==============================] - 0s 5ms/step - loss: 0.0097 - accuracy: 0.9919\n",
            "Epoch 277/300\n",
            "6/6 [==============================] - 0s 3ms/step - loss: 0.0097 - accuracy: 0.9919\n",
            "Epoch 278/300\n",
            "6/6 [==============================] - 0s 4ms/step - loss: 0.0097 - accuracy: 0.9917\n",
            "Epoch 279/300\n",
            "6/6 [==============================] - 0s 4ms/step - loss: 0.0096 - accuracy: 0.9919\n",
            "Epoch 280/300\n",
            "6/6 [==============================] - 0s 4ms/step - loss: 0.0096 - accuracy: 0.9917\n",
            "Epoch 281/300\n",
            "6/6 [==============================] - 0s 5ms/step - loss: 0.0095 - accuracy: 0.9919\n",
            "Epoch 282/300\n",
            "6/6 [==============================] - 0s 3ms/step - loss: 0.0095 - accuracy: 0.9919\n",
            "Epoch 283/300\n",
            "6/6 [==============================] - 0s 4ms/step - loss: 0.0095 - accuracy: 0.9919\n",
            "Epoch 284/300\n",
            "6/6 [==============================] - 0s 4ms/step - loss: 0.0095 - accuracy: 0.9917\n",
            "Epoch 285/300\n",
            "6/6 [==============================] - 0s 5ms/step - loss: 0.0094 - accuracy: 0.9917\n",
            "Epoch 286/300\n",
            "6/6 [==============================] - 0s 3ms/step - loss: 0.0094 - accuracy: 0.9919\n",
            "Epoch 287/300\n",
            "6/6 [==============================] - 0s 3ms/step - loss: 0.0094 - accuracy: 0.9919\n",
            "Epoch 288/300\n",
            "6/6 [==============================] - 0s 4ms/step - loss: 0.0093 - accuracy: 0.9921\n",
            "Epoch 289/300\n",
            "6/6 [==============================] - 0s 3ms/step - loss: 0.0093 - accuracy: 0.9921\n",
            "Epoch 290/300\n",
            "6/6 [==============================] - 0s 4ms/step - loss: 0.0093 - accuracy: 0.9925\n",
            "Epoch 291/300\n",
            "6/6 [==============================] - 0s 4ms/step - loss: 0.0093 - accuracy: 0.9921\n",
            "Epoch 292/300\n",
            "6/6 [==============================] - 0s 4ms/step - loss: 0.0092 - accuracy: 0.9919\n",
            "Epoch 293/300\n",
            "6/6 [==============================] - 0s 4ms/step - loss: 0.0092 - accuracy: 0.9921\n",
            "Epoch 294/300\n",
            "6/6 [==============================] - 0s 4ms/step - loss: 0.0092 - accuracy: 0.9921\n",
            "Epoch 295/300\n",
            "6/6 [==============================] - 0s 5ms/step - loss: 0.0091 - accuracy: 0.9923\n",
            "Epoch 296/300\n",
            "6/6 [==============================] - 0s 4ms/step - loss: 0.0091 - accuracy: 0.9923\n",
            "Epoch 297/300\n",
            "6/6 [==============================] - 0s 5ms/step - loss: 0.0091 - accuracy: 0.9923\n",
            "Epoch 298/300\n",
            "6/6 [==============================] - 0s 5ms/step - loss: 0.0090 - accuracy: 0.9925\n",
            "Epoch 299/300\n",
            "6/6 [==============================] - 0s 4ms/step - loss: 0.0090 - accuracy: 0.9923\n",
            "Epoch 300/300\n",
            "6/6 [==============================] - 0s 4ms/step - loss: 0.0090 - accuracy: 0.9925\n"
          ]
        },
        {
          "output_type": "execute_result",
          "data": {
            "text/plain": [
              "<keras.callbacks.History at 0x7fc5c31b7e90>"
            ]
          },
          "metadata": {},
          "execution_count": 261
        }
      ]
    },
    {
      "cell_type": "code",
      "source": [
        "y_pred=model.predict(X_test)"
      ],
      "metadata": {
        "id": "Tinke61Hu4QU"
      },
      "execution_count": 262,
      "outputs": []
    },
    {
      "cell_type": "code",
      "source": [
        "y_pred=(y_pred.round())\n",
        "y_pred=y_pred.astype(int)"
      ],
      "metadata": {
        "id": "T_jiW_nPvlJV"
      },
      "execution_count": 263,
      "outputs": []
    },
    {
      "cell_type": "code",
      "source": [
        "print(y_pred.shape)\n",
        "y_pred=y_pred.reshape(2681,)\n",
        "y_pred[:10]"
      ],
      "metadata": {
        "colab": {
          "base_uri": "https://localhost:8080/"
        },
        "id": "4JW4iidWvqUr",
        "outputId": "209b8a7d-07ff-4fbf-ec95-4417411f9ae0"
      },
      "execution_count": 264,
      "outputs": [
        {
          "output_type": "stream",
          "name": "stdout",
          "text": [
            "(2681, 1)\n"
          ]
        },
        {
          "output_type": "execute_result",
          "data": {
            "text/plain": [
              "array([0, 1, 1, 0, 1, 1, 1, 1, 0, 0])"
            ]
          },
          "metadata": {},
          "execution_count": 264
        }
      ]
    },
    {
      "cell_type": "code",
      "source": [
        "print(y_test.shape)\n",
        "y_test[:10]"
      ],
      "metadata": {
        "colab": {
          "base_uri": "https://localhost:8080/"
        },
        "id": "r3l54WfyvvdP",
        "outputId": "33535be8-b3db-42c7-f7c6-e4f4e931ff8d"
      },
      "execution_count": 265,
      "outputs": [
        {
          "output_type": "stream",
          "name": "stdout",
          "text": [
            "(2681,)\n"
          ]
        },
        {
          "output_type": "execute_result",
          "data": {
            "text/plain": [
              "1971    0\n",
              "6654    1\n",
              "5606    1\n",
              "3332    0\n",
              "6988    1\n",
              "5761    1\n",
              "5798    1\n",
              "3064    1\n",
              "1811    0\n",
              "3422    0\n",
              "Name: class, dtype: int64"
            ]
          },
          "metadata": {},
          "execution_count": 265
        }
      ]
    },
    {
      "cell_type": "code",
      "source": [
        "test_accuracy=sum(y_pred == y_test)/len(y_pred)"
      ],
      "metadata": {
        "id": "qlxcBzCGvzTn"
      },
      "execution_count": 266,
      "outputs": []
    },
    {
      "cell_type": "code",
      "source": [
        "test_accuracy*100"
      ],
      "metadata": {
        "colab": {
          "base_uri": "https://localhost:8080/"
        },
        "id": "aky0swPLwT6m",
        "outputId": "420465f7-c4a8-440b-e63b-9f1545cd9d51"
      },
      "execution_count": 267,
      "outputs": [
        {
          "output_type": "execute_result",
          "data": {
            "text/plain": [
              "99.1048116374487"
            ]
          },
          "metadata": {},
          "execution_count": 267
        }
      ]
    },
    {
      "cell_type": "code",
      "source": [
        "\n",
        "y_pred1=model.predict(X_train)\n",
        "y_pred1=y_pred1.round().astype(int)\n",
        "y_pred1=y_pred1.reshape(y_train.shape[0],)\n",
        "y_pred1"
      ],
      "metadata": {
        "colab": {
          "base_uri": "https://localhost:8080/"
        },
        "id": "1YObYA9Yz04p",
        "outputId": "4bb07ad7-c315-4d6b-cd95-97ff647f1635"
      },
      "execution_count": 268,
      "outputs": [
        {
          "output_type": "execute_result",
          "data": {
            "text/plain": [
              "array([0, 1, 0, ..., 0, 1, 0])"
            ]
          },
          "metadata": {},
          "execution_count": 268
        }
      ]
    },
    {
      "cell_type": "code",
      "source": [
        "y_pred1[:10]"
      ],
      "metadata": {
        "colab": {
          "base_uri": "https://localhost:8080/"
        },
        "id": "ths1nZ4j0slO",
        "outputId": "839c0c8e-6d44-4eca-819a-c45d97e43a6e"
      },
      "execution_count": 269,
      "outputs": [
        {
          "output_type": "execute_result",
          "data": {
            "text/plain": [
              "array([0, 1, 0, 0, 1, 1, 1, 0, 1, 0])"
            ]
          },
          "metadata": {},
          "execution_count": 269
        }
      ]
    },
    {
      "cell_type": "code",
      "source": [
        "y_train[:10]"
      ],
      "metadata": {
        "colab": {
          "base_uri": "https://localhost:8080/"
        },
        "id": "Mj84tkS30vHs",
        "outputId": "d31025ac-afa6-4662-b34c-1c8c1e89963a"
      },
      "execution_count": 270,
      "outputs": [
        {
          "output_type": "execute_result",
          "data": {
            "text/plain": [
              "3244    0\n",
              "3739    1\n",
              "2154    0\n",
              "1344    0\n",
              "7852    1\n",
              "6104    1\n",
              "4829    1\n",
              "952     0\n",
              "6964    1\n",
              "1504    0\n",
              "Name: class, dtype: int64"
            ]
          },
          "metadata": {},
          "execution_count": 270
        }
      ]
    },
    {
      "cell_type": "code",
      "source": [
        "train_accuracy=sum(y_pred1 == y_train)/len(y_pred1)"
      ],
      "metadata": {
        "id": "5uw1hGUx0SZk"
      },
      "execution_count": 271,
      "outputs": []
    },
    {
      "cell_type": "code",
      "source": [
        "train_accuracy*100"
      ],
      "metadata": {
        "colab": {
          "base_uri": "https://localhost:8080/"
        },
        "id": "6J1VdQNm0W6c",
        "outputId": "cb07e9ed-9fd0-4960-ca53-708a8c8d69b1"
      },
      "execution_count": 272,
      "outputs": [
        {
          "output_type": "execute_result",
          "data": {
            "text/plain": [
              "99.26511115193827"
            ]
          },
          "metadata": {},
          "execution_count": 272
        }
      ]
    },
    {
      "cell_type": "code",
      "source": [
        "from sklearn.linear_model import LogisticRegression"
      ],
      "metadata": {
        "id": "-MYHfOzI01NS"
      },
      "execution_count": 273,
      "outputs": []
    },
    {
      "cell_type": "code",
      "source": [
        "m=LogisticRegression()"
      ],
      "metadata": {
        "id": "pW143YDh2RrK"
      },
      "execution_count": 274,
      "outputs": []
    },
    {
      "cell_type": "code",
      "source": [
        "m.fit(X_train,y_train)"
      ],
      "metadata": {
        "id": "aI3Bi3L42T73"
      },
      "execution_count": null,
      "outputs": []
    },
    {
      "cell_type": "code",
      "source": [
        "y_pred2=m.predict(X_test)"
      ],
      "metadata": {
        "id": "CAMQPQuf2XHf"
      },
      "execution_count": 276,
      "outputs": []
    },
    {
      "cell_type": "code",
      "source": [
        "y_test[:10]"
      ],
      "metadata": {
        "colab": {
          "base_uri": "https://localhost:8080/"
        },
        "id": "6R0ozsr72hj0",
        "outputId": "57cfaa59-49d9-4c3d-b0e8-c13889bd5401"
      },
      "execution_count": 277,
      "outputs": [
        {
          "output_type": "execute_result",
          "data": {
            "text/plain": [
              "1971    0\n",
              "6654    1\n",
              "5606    1\n",
              "3332    0\n",
              "6988    1\n",
              "5761    1\n",
              "5798    1\n",
              "3064    1\n",
              "1811    0\n",
              "3422    0\n",
              "Name: class, dtype: int64"
            ]
          },
          "metadata": {},
          "execution_count": 277
        }
      ]
    },
    {
      "cell_type": "code",
      "source": [
        "y_pred2[:10]"
      ],
      "metadata": {
        "colab": {
          "base_uri": "https://localhost:8080/"
        },
        "id": "RHQiPkRw3wtK",
        "outputId": "0d3a37b2-9969-43ce-b092-27fd77740680"
      },
      "execution_count": 279,
      "outputs": [
        {
          "output_type": "execute_result",
          "data": {
            "text/plain": [
              "array([0, 1, 1, 0, 1, 1, 1, 1, 0, 0])"
            ]
          },
          "metadata": {},
          "execution_count": 279
        }
      ]
    },
    {
      "cell_type": "code",
      "source": [
        "m.score(X_test,y_test)"
      ],
      "metadata": {
        "colab": {
          "base_uri": "https://localhost:8080/"
        },
        "id": "_PHAtpBd2kbn",
        "outputId": "c98ce0aa-31a1-4835-cd6b-e8b5e5f11a29"
      },
      "execution_count": 278,
      "outputs": [
        {
          "output_type": "execute_result",
          "data": {
            "text/plain": [
              "0.9474076837001119"
            ]
          },
          "metadata": {},
          "execution_count": 278
        }
      ]
    },
    {
      "cell_type": "code",
      "source": [
        ""
      ],
      "metadata": {
        "id": "J57gSICK2ogK"
      },
      "execution_count": null,
      "outputs": []
    }
  ]
}