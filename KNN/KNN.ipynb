{
  "nbformat": 4,
  "nbformat_minor": 0,
  "metadata": {
    "colab": {
      "name": "KNN.ipynb",
      "provenance": []
    },
    "kernelspec": {
      "name": "python3",
      "display_name": "Python 3"
    },
    "language_info": {
      "name": "python"
    }
  },
  "cells": [
    {
      "cell_type": "code",
      "execution_count": 1,
      "metadata": {
        "id": "BpTN4k00wuxb"
      },
      "outputs": [],
      "source": [
        "import numpy as np"
      ]
    },
    {
      "cell_type": "code",
      "source": [
        "import matplotlib.pyplot as plt"
      ],
      "metadata": {
        "id": "OVRgc6bJw4wC"
      },
      "execution_count": 2,
      "outputs": []
    },
    {
      "cell_type": "code",
      "source": [
        "from sklearn.datasets import make_blobs"
      ],
      "metadata": {
        "id": "M9vQiKo-u9Mb"
      },
      "execution_count": 12,
      "outputs": []
    },
    {
      "cell_type": "code",
      "source": [
        "from sklearn.model_selection import train_test_split"
      ],
      "metadata": {
        "id": "MsBegLXovC2o"
      },
      "execution_count": 13,
      "outputs": []
    },
    {
      "cell_type": "code",
      "source": [
        "data=np.load('/content/mnist_train_small.npy')"
      ],
      "metadata": {
        "id": "Jpgwr5imxD7_"
      },
      "execution_count": 5,
      "outputs": []
    },
    {
      "cell_type": "code",
      "source": [
        "data.shape\n"
      ],
      "metadata": {
        "colab": {
          "base_uri": "https://localhost:8080/"
        },
        "id": "Rgu3076cxneo",
        "outputId": "46324e08-6bcf-4b43-e22a-c2cbffda37a9"
      },
      "execution_count": 6,
      "outputs": [
        {
          "output_type": "execute_result",
          "data": {
            "text/plain": [
              "(19999, 785)"
            ]
          },
          "metadata": {},
          "execution_count": 6
        }
      ]
    },
    {
      "cell_type": "code",
      "source": [
        "data"
      ],
      "metadata": {
        "colab": {
          "base_uri": "https://localhost:8080/"
        },
        "id": "43WPQKIQx4S3",
        "outputId": "6d9a91c0-1171-4471-94e6-88b04a756231"
      },
      "execution_count": 7,
      "outputs": [
        {
          "output_type": "execute_result",
          "data": {
            "text/plain": [
              "array([[5, 0, 0, ..., 0, 0, 0],\n",
              "       [7, 0, 0, ..., 0, 0, 0],\n",
              "       [9, 0, 0, ..., 0, 0, 0],\n",
              "       ...,\n",
              "       [2, 0, 0, ..., 0, 0, 0],\n",
              "       [9, 0, 0, ..., 0, 0, 0],\n",
              "       [5, 0, 0, ..., 0, 0, 0]], dtype=uint8)"
            ]
          },
          "metadata": {},
          "execution_count": 7
        }
      ]
    },
    {
      "cell_type": "code",
      "source": [
        "X=data[:,1:]\n",
        "y=data[:,0]"
      ],
      "metadata": {
        "id": "gP4k9Z8Zx5o-"
      },
      "execution_count": 8,
      "outputs": []
    },
    {
      "cell_type": "code",
      "source": [
        "X.shape,y.shape"
      ],
      "metadata": {
        "colab": {
          "base_uri": "https://localhost:8080/"
        },
        "id": "qIlNZPaDyBAX",
        "outputId": "985c9a3c-a33b-4247-a704-d149205b9306"
      },
      "execution_count": 9,
      "outputs": [
        {
          "output_type": "execute_result",
          "data": {
            "text/plain": [
              "((19999, 784), (19999,))"
            ]
          },
          "metadata": {},
          "execution_count": 9
        }
      ]
    },
    {
      "cell_type": "code",
      "source": [
        "plt.imshow(X[0].reshape(28,28),cmap='gray')"
      ],
      "metadata": {
        "colab": {
          "base_uri": "https://localhost:8080/",
          "height": 282
        },
        "id": "Wr5bg0SXyDrC",
        "outputId": "56628b0d-a119-4383-a538-9a6a6c2249ec"
      },
      "execution_count": 11,
      "outputs": [
        {
          "output_type": "execute_result",
          "data": {
            "text/plain": [
              "<matplotlib.image.AxesImage at 0x7f88bfd5a610>"
            ]
          },
          "metadata": {},
          "execution_count": 11
        },
        {
          "output_type": "display_data",
          "data": {
            "image/png": "[encoded data removed]",
            "text/plain": [
              "<Figure size 432x288 with 1 Axes>"
            ]
          },
          "metadata": {
            "needs_background": "light"
          }
        }
      ]
    },
    {
      "cell_type": "code",
      "source": [
        "X_train, X_test, y_train, y_test = train_test_split(\n",
        "...     X, y, test_size=0.33, random_state=42)"
      ],
      "metadata": {
        "id": "iq10e4K0yRsT"
      },
      "execution_count": 15,
      "outputs": []
    },
    {
      "cell_type": "code",
      "source": [
        "X_train.shape,y_train.shape"
      ],
      "metadata": {
        "colab": {
          "base_uri": "https://localhost:8080/"
        },
        "id": "ntT2fqEkvPId",
        "outputId": "ab9d10f1-8fe8-4224-957e-0a03a832748e"
      },
      "execution_count": 17,
      "outputs": [
        {
          "output_type": "execute_result",
          "data": {
            "text/plain": [
              "((13399, 784), (13399,))"
            ]
          },
          "metadata": {},
          "execution_count": 17
        }
      ]
    },
    {
      "cell_type": "code",
      "source": [
        "X_test.shape,y_test.shape"
      ],
      "metadata": {
        "colab": {
          "base_uri": "https://localhost:8080/"
        },
        "id": "5zkzVd4PvePK",
        "outputId": "2d54bcd9-e72f-46b5-d422-86c1730aa8fc"
      },
      "execution_count": 18,
      "outputs": [
        {
          "output_type": "execute_result",
          "data": {
            "text/plain": [
              "((6600, 784), (6600,))"
            ]
          },
          "metadata": {},
          "execution_count": 18
        }
      ]
    },
    {
      "cell_type": "code",
      "source": [
        "from sklearn.neighbors import KNeighborsClassifier"
      ],
      "metadata": {
        "id": "G0dGLLU-voVQ"
      },
      "execution_count": 19,
      "outputs": []
    },
    {
      "cell_type": "code",
      "source": [
        "model=KNeighborsClassifier()"
      ],
      "metadata": {
        "id": "uuLcbG3hv_dh"
      },
      "execution_count": 20,
      "outputs": []
    },
    {
      "cell_type": "code",
      "source": [
        "model.fit(X_train,y_train)"
      ],
      "metadata": {
        "colab": {
          "base_uri": "https://localhost:8080/"
        },
        "id": "64d72AYiwEQO",
        "outputId": "8580eec7-ce2e-4ac0-c4f8-bcc080d958b2"
      },
      "execution_count": 21,
      "outputs": [
        {
          "output_type": "execute_result",
          "data": {
            "text/plain": [
              "KNeighborsClassifier()"
            ]
          },
          "metadata": {},
          "execution_count": 21
        }
      ]
    },
    {
      "cell_type": "code",
      "source": [
        "model.predict(X_test[:10])"
      ],
      "metadata": {
        "colab": {
          "base_uri": "https://localhost:8080/"
        },
        "id": "7XFi7XLdwJG2",
        "outputId": "e95ee862-6602-4056-e9c2-10092ab809d2"
      },
      "execution_count": 22,
      "outputs": [
        {
          "output_type": "execute_result",
          "data": {
            "text/plain": [
              "array([1, 7, 0, 9, 4, 5, 4, 6, 9, 2], dtype=uint8)"
            ]
          },
          "metadata": {},
          "execution_count": 22
        }
      ]
    },
    {
      "cell_type": "code",
      "source": [
        "y_test[:10]"
      ],
      "metadata": {
        "colab": {
          "base_uri": "https://localhost:8080/"
        },
        "id": "b_GhOsOowPl7",
        "outputId": "ce09c3f2-c4a9-41c0-fdd5-b31bfccc20fd"
      },
      "execution_count": 23,
      "outputs": [
        {
          "output_type": "execute_result",
          "data": {
            "text/plain": [
              "array([7, 7, 0, 9, 4, 5, 4, 6, 9, 2], dtype=uint8)"
            ]
          },
          "metadata": {},
          "execution_count": 23
        }
      ]
    },
    {
      "cell_type": "code",
      "source": [
        " model.score(X_test,y_test)"
      ],
      "metadata": {
        "colab": {
          "base_uri": "https://localhost:8080/"
        },
        "id": "bzCHV4ufwR2x",
        "outputId": "d4c9d87a-8f3e-46f9-a4fc-4a15b11105f0"
      },
      "execution_count": 24,
      "outputs": [
        {
          "output_type": "execute_result",
          "data": {
            "text/plain": [
              "0.9542424242424242"
            ]
          },
          "metadata": {},
          "execution_count": 24
        }
      ]
    },
    {
      "cell_type": "markdown",
      "source": [
        "## **CUSTOM KNN** "
      ],
      "metadata": {
        "id": "BMWHcaq6z8kg"
      }
    },
    {
      "cell_type": "code",
      "source": [
        "class CustomKNN:\n",
        "    # constructor\n",
        "    def __init__(self, n_neighbours=5):\n",
        "        self.n_neighbours = n_neighbours\n",
        "        \n",
        "    # training function\n",
        "    def fit(self, X, y):\n",
        "        self._X = (X - X.mean()) / X.std() # standardisation\n",
        "        self._y = y\n",
        "    \n",
        "    # predict point\n",
        "    # given a single point, tell me which class it belongs to \n",
        "    def predict_point(self, point):\n",
        "        # storing the dis of given 'point' from each point in training data\n",
        "        list_dist = []\n",
        "        \n",
        "        # these points are from my training data\n",
        "        for x_point, y_point in zip(self._X, self._y):\n",
        "            dist_point = ((point - x_point) ** 2).sum()\n",
        "            list_dist.append([dist_point, y_point])\n",
        "        \n",
        "        ## sorting the list according to the distance\n",
        "        sorted_dist = sorted(list_dist)\n",
        "        top_k = sorted_dist[:self.n_neighbours]\n",
        "        \n",
        "        # taking the count \n",
        "        items, counts = np.unique(np.array(top_k)[:, 1], return_counts=True)\n",
        "        ans = items[np.argmax(counts)]\n",
        "        return ans\n",
        "            \n",
        "    # predict\n",
        "    # give me answer for each number in the array\n",
        "    def predict(self, X):\n",
        "        results = []\n",
        "        X = (X - X.mean()) / X.std() \n",
        "        for point in X:\n",
        "            results.append(self.predict_point(point))\n",
        "        return np.array(results, dtype=int)\n",
        "    \n",
        "    # score to measure my accuracy\n",
        "    def score(self, X, y):\n",
        "        return sum(self.predict(X) == y) / len(y)\n",
        "    \n",
        "    "
      ],
      "metadata": {
        "id": "JBItt737y-a1"
      },
      "execution_count": 25,
      "outputs": []
    },
    {
      "cell_type": "code",
      "source": [
        "m2 = CustomKNN()"
      ],
      "metadata": {
        "id": "nz7B8ykwGkjt"
      },
      "execution_count": 26,
      "outputs": []
    },
    {
      "cell_type": "code",
      "source": [
        "m2.fit(X_train, y_train)"
      ],
      "metadata": {
        "id": "LzA7szWXGo8l"
      },
      "execution_count": 27,
      "outputs": []
    },
    {
      "cell_type": "code",
      "source": [
        "m2.predict(X_test[:10])"
      ],
      "metadata": {
        "colab": {
          "base_uri": "https://localhost:8080/"
        },
        "id": "BAHd1vdBGrgx",
        "outputId": "1993745e-d6c6-4bdf-e4f6-503c8dbe8d07"
      },
      "execution_count": 28,
      "outputs": [
        {
          "output_type": "execute_result",
          "data": {
            "text/plain": [
              "array([1, 7, 0, 9, 4, 5, 4, 6, 9, 2])"
            ]
          },
          "metadata": {},
          "execution_count": 28
        }
      ]
    },
    {
      "cell_type": "code",
      "source": [
        "y_test[:10]"
      ],
      "metadata": {
        "colab": {
          "base_uri": "https://localhost:8080/"
        },
        "id": "tdNk6CQmGuEq",
        "outputId": "8cf6eb97-8f50-4c0c-c8aa-18a299025832"
      },
      "execution_count": 29,
      "outputs": [
        {
          "output_type": "execute_result",
          "data": {
            "text/plain": [
              "array([7, 7, 0, 9, 4, 5, 4, 6, 9, 2], dtype=uint8)"
            ]
          },
          "metadata": {},
          "execution_count": 29
        }
      ]
    },
    {
      "cell_type": "code",
      "source": [
        "m2.score(X_test[:100], y_test[:100])"
      ],
      "metadata": {
        "colab": {
          "base_uri": "https://localhost:8080/"
        },
        "id": "rJciQYvFGwy7",
        "outputId": "666a765c-d4dd-4112-ec0b-d08517be1137"
      },
      "execution_count": 30,
      "outputs": [
        {
          "output_type": "execute_result",
          "data": {
            "text/plain": [
              "0.95"
            ]
          },
          "metadata": {},
          "execution_count": 30
        }
      ]
    },
    {
      "cell_type": "code",
      "source": [
        "li = [ \n",
        "    [23, 0],\n",
        "    [45, 1],\n",
        "    [19, 0],\n",
        "    [3, 2],\n",
        "    [10, 0],\n",
        "    [34, 2],\n",
        "    [100, 1]\n",
        "]\n"
      ],
      "metadata": {
        "id": "d_5vetSvGy_y"
      },
      "execution_count": 37,
      "outputs": []
    },
    {
      "cell_type": "code",
      "source": [
        "sorted_li = sorted(li)"
      ],
      "metadata": {
        "id": "KOivhDmUHAx9"
      },
      "execution_count": 38,
      "outputs": []
    },
    {
      "cell_type": "code",
      "source": [
        "top_k = sorted_li[:5]"
      ],
      "metadata": {
        "id": "DYqILpYsHHym"
      },
      "execution_count": 39,
      "outputs": []
    },
    {
      "cell_type": "code",
      "source": [
        "top_k"
      ],
      "metadata": {
        "colab": {
          "base_uri": "https://localhost:8080/"
        },
        "id": "QYSwfpy5HI5u",
        "outputId": "b1b66424-2a94-4427-a04c-ddfac3227f48"
      },
      "execution_count": 40,
      "outputs": [
        {
          "output_type": "execute_result",
          "data": {
            "text/plain": [
              "[[3, 2], [10, 0], [19, 0], [23, 0], [34, 2]]"
            ]
          },
          "metadata": {},
          "execution_count": 40
        }
      ]
    },
    {
      "cell_type": "code",
      "source": [
        "li, counts = np.unique(np.array(top_k)[:, 1], return_counts=True)"
      ],
      "metadata": {
        "id": "Oe3iTUVzHJ6x"
      },
      "execution_count": 41,
      "outputs": []
    },
    {
      "cell_type": "code",
      "source": [
        "li, counts"
      ],
      "metadata": {
        "colab": {
          "base_uri": "https://localhost:8080/"
        },
        "id": "KAKYBHLaHPKa",
        "outputId": "217a7c95-efed-4445-96fd-ce8114418d90"
      },
      "execution_count": 42,
      "outputs": [
        {
          "output_type": "execute_result",
          "data": {
            "text/plain": [
              "(array([0, 2]), array([3, 2]))"
            ]
          },
          "metadata": {},
          "execution_count": 42
        }
      ]
    },
    {
      "cell_type": "code",
      "source": [
        ""
      ],
      "metadata": {
        "id": "KEQLYVxlHPhF"
      },
      "execution_count": null,
      "outputs": []
    }
  ]
}